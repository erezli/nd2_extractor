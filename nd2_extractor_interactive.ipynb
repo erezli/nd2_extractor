{
 "cells": [
  {
   "cell_type": "code",
   "execution_count": 1,
   "metadata": {
    "scrolled": true
   },
   "outputs": [
    {
     "name": "stdout",
     "output_type": "stream",
     "text": [
      " __________________________________________________ \n",
      "< BakshiLab FAST ND2 Extractor - By Georgeos Hardo >\n",
      " -------------------------------------------------- \n",
      "    \\                                  ___-------___\n",
      "     \\                             _-~~             ~~-_\n",
      "      \\                         _-~                    /~-_\n",
      "             /^\\__/^\\         /~  \\                   /    \\\n",
      "           /|  O|| O|        /      \\_______________/        \\\n",
      "          | |___||__|      /       /                \\          \\\n",
      "          |          \\    /      /                    \\          \\\n",
      "          |   (_______) /______/                        \\_________ \\\n",
      "          |         / /         \\                      /            \\\n",
      "           \\         \\^\\\\         \\                  /               \\     /\n",
      "             \\         ||           \\______________/      _-_       //\\__//\n",
      "               \\       ||------_-~~-_ ------------- \\ --/~   ~\\    || __/\n",
      "                 ~-----||====/~     |==================|       |/~~~~~\n",
      "                  (_(__/  ./     /                    \\_\\      \\.\n",
      "                         (_(___/                         \\_____)_)\n"
     ]
    }
   ],
   "source": [
    "from nd2_extractor import *\n",
    "from tkinter import filedialog\n",
    "greeting()"
   ]
  },
  {
   "cell_type": "code",
   "execution_count": 2,
   "metadata": {},
   "outputs": [],
   "source": [
    "prompt = False\n",
    "if prompt:\n",
    "    nd2_directory = filedialog.askopenfilename()\n",
    "    save_directory = filedialog.askdirectory()\n",
    "else:\n",
    "    nd2_directory = \"/home/georgeos/Dropbox (Cambridge University)/Nikon Nd2 Backup_Bakshi-Lab/gh464/MI13TnaAGFP_exit_dyn/ND2/MI13TnaAGFP_exit_dyn.nd2\"\n",
    "    save_directory = \"/home/georgeos/Dropbox (Cambridge University)/Nikon Nd2 Backup_Bakshi-Lab/gh464/MI13TnaAGFP_exit_dyn/extracted/\"\n",
    "    try:\n",
    "        os.mkdir(save_directory)\n",
    "    except:\n",
    "        pass"
   ]
  },
  {
   "cell_type": "code",
   "execution_count": 3,
   "metadata": {},
   "outputs": [
    {
     "name": "stderr",
     "output_type": "stream",
     "text": [
      "/home/georgeos/miniconda3/envs/nd2_extractor/lib/python3.10/site-packages/pims/base_frames.py:478: UserWarning: Please call FramesSequenceND.__init__() at the start of thethe reader initialization.\n",
      "  warn(\"Please call FramesSequenceND.__init__() at the start of the\"\n"
     ]
    },
    {
     "data": {
      "application/vnd.jupyter.widget-view+json": {
       "model_id": "c1afbe1f9a0440e7874632ccce025e78",
       "version_major": 2,
       "version_minor": 0
      },
      "text/plain": [
       "Getting experiment info - please wait:   0%|          | 0/3 [00:00<?, ?it/s]"
      ]
     },
     "metadata": {},
     "output_type": "display_data"
    },
    {
     "name": "stdout",
     "output_type": "stream",
     "text": [
      "\u001b[1m\u001b[34mExperiment parameters (please verify before proceeding with extraction\u001b[0m\n",
      "| Parameter          | Value                  |\n",
      "|--------------------+------------------------|\n",
      "| TIMEPOINTS         | 289                    |\n",
      "| FOVs               | 39                     |\n",
      "| IMG_HEIGHT         | 2304                   |\n",
      "| IMG_WIDTH          | 2304                   |\n",
      "| IMG_CHANNELS_COUNT | 3                      |\n",
      "| IMG_CHANNELS       | ['Green', 'PC', 'Red'] |\n",
      "\u001b[1m\u001b[31mChoose image format: (TIFF/PNG) \u001b[0m\n"
     ]
    },
    {
     "ename": "KeyboardInterrupt",
     "evalue": "Interrupted by user",
     "output_type": "error",
     "traceback": [
      "\u001b[0;31m---------------------------------------------------------------------------\u001b[0m",
      "\u001b[0;31mKeyboardInterrupt\u001b[0m                         Traceback (most recent call last)",
      "Cell \u001b[0;32mIn [3], line 1\u001b[0m\n\u001b[0;32m----> 1\u001b[0m \u001b[43mmain_loop\u001b[49m\u001b[43m(\u001b[49m\u001b[43mnd2_directory\u001b[49m\u001b[43m,\u001b[49m\u001b[43msave_directory\u001b[49m\u001b[43m,\u001b[49m\u001b[43m \u001b[49m\u001b[38;5;241;43m50\u001b[39;49m\u001b[43m)\u001b[49m\n",
      "File \u001b[0;32m~/Documents/GitHub/nd2_extractor/nd2_extractor_helpers.py:118\u001b[0m, in \u001b[0;36mmain_loop\u001b[0;34m(directory, save_directory, joblib_workers)\u001b[0m\n\u001b[1;32m    106\u001b[0m \u001b[39mprint\u001b[39m(tabulate([\n\u001b[1;32m    107\u001b[0m     [\u001b[39m'\u001b[39m\u001b[39mTIMEPOINTS\u001b[39m\u001b[39m'\u001b[39m, num_t],\n\u001b[1;32m    108\u001b[0m     [\u001b[39m'\u001b[39m\u001b[39mFOVs\u001b[39m\u001b[39m'\u001b[39m, num_FOVs],\n\u001b[0;32m   (...)\u001b[0m\n\u001b[1;32m    111\u001b[0m     [\u001b[39m\"\u001b[39m\u001b[39mIMG_CHANNELS_COUNT\u001b[39m\u001b[39m\"\u001b[39m, IMG_CHANNELS_COUNT],\n\u001b[1;32m    112\u001b[0m     [\u001b[39m'\u001b[39m\u001b[39mIMG_CHANNELS\u001b[39m\u001b[39m'\u001b[39m, IMG_CHANNELS]], headers\u001b[39m=\u001b[39m[\u001b[39m'\u001b[39m\u001b[39mParameter\u001b[39m\u001b[39m'\u001b[39m, \u001b[39m'\u001b[39m\u001b[39mValue\u001b[39m\u001b[39m'\u001b[39m], tablefmt\u001b[39m=\u001b[39m\u001b[39m'\u001b[39m\u001b[39morgtbl\u001b[39m\u001b[39m'\u001b[39m))\n\u001b[1;32m    116\u001b[0m \u001b[39mprint\u001b[39m(colored(\u001b[39m\"\u001b[39m\u001b[39mChoose image format: (TIFF/PNG) \u001b[39m\u001b[39m\"\u001b[39m, \u001b[39m'\u001b[39m\u001b[39mred\u001b[39m\u001b[39m'\u001b[39m, attrs\u001b[39m=\u001b[39m[\u001b[39m'\u001b[39m\u001b[39mbold\u001b[39m\u001b[39m'\u001b[39m]))\n\u001b[0;32m--> 118\u001b[0m img_format \u001b[39m=\u001b[39m \u001b[39minput\u001b[39;49m()\n\u001b[1;32m    121\u001b[0m FOVs_list \u001b[39m=\u001b[39m \u001b[39mlist\u001b[39m(\u001b[39mrange\u001b[39m(num_FOVs))\n\u001b[1;32m    122\u001b[0m CHANNELS_list \u001b[39m=\u001b[39m \u001b[39mlist\u001b[39m(\u001b[39mrange\u001b[39m(IMG_CHANNELS_COUNT))\n",
      "File \u001b[0;32m~/miniconda3/envs/nd2_extractor/lib/python3.10/site-packages/ipykernel/kernelbase.py:1177\u001b[0m, in \u001b[0;36mKernel.raw_input\u001b[0;34m(self, prompt)\u001b[0m\n\u001b[1;32m   1173\u001b[0m \u001b[39mif\u001b[39;00m \u001b[39mnot\u001b[39;00m \u001b[39mself\u001b[39m\u001b[39m.\u001b[39m_allow_stdin:\n\u001b[1;32m   1174\u001b[0m     \u001b[39mraise\u001b[39;00m StdinNotImplementedError(\n\u001b[1;32m   1175\u001b[0m         \u001b[39m\"\u001b[39m\u001b[39mraw_input was called, but this frontend does not support input requests.\u001b[39m\u001b[39m\"\u001b[39m\n\u001b[1;32m   1176\u001b[0m     )\n\u001b[0;32m-> 1177\u001b[0m \u001b[39mreturn\u001b[39;00m \u001b[39mself\u001b[39;49m\u001b[39m.\u001b[39;49m_input_request(\n\u001b[1;32m   1178\u001b[0m     \u001b[39mstr\u001b[39;49m(prompt),\n\u001b[1;32m   1179\u001b[0m     \u001b[39mself\u001b[39;49m\u001b[39m.\u001b[39;49m_parent_ident[\u001b[39m\"\u001b[39;49m\u001b[39mshell\u001b[39;49m\u001b[39m\"\u001b[39;49m],\n\u001b[1;32m   1180\u001b[0m     \u001b[39mself\u001b[39;49m\u001b[39m.\u001b[39;49mget_parent(\u001b[39m\"\u001b[39;49m\u001b[39mshell\u001b[39;49m\u001b[39m\"\u001b[39;49m),\n\u001b[1;32m   1181\u001b[0m     password\u001b[39m=\u001b[39;49m\u001b[39mFalse\u001b[39;49;00m,\n\u001b[1;32m   1182\u001b[0m )\n",
      "File \u001b[0;32m~/miniconda3/envs/nd2_extractor/lib/python3.10/site-packages/ipykernel/kernelbase.py:1219\u001b[0m, in \u001b[0;36mKernel._input_request\u001b[0;34m(self, prompt, ident, parent, password)\u001b[0m\n\u001b[1;32m   1216\u001b[0m             \u001b[39mbreak\u001b[39;00m\n\u001b[1;32m   1217\u001b[0m \u001b[39mexcept\u001b[39;00m \u001b[39mKeyboardInterrupt\u001b[39;00m:\n\u001b[1;32m   1218\u001b[0m     \u001b[39m# re-raise KeyboardInterrupt, to truncate traceback\u001b[39;00m\n\u001b[0;32m-> 1219\u001b[0m     \u001b[39mraise\u001b[39;00m \u001b[39mKeyboardInterrupt\u001b[39;00m(\u001b[39m\"\u001b[39m\u001b[39mInterrupted by user\u001b[39m\u001b[39m\"\u001b[39m) \u001b[39mfrom\u001b[39;00m \u001b[39mNone\u001b[39m\n\u001b[1;32m   1220\u001b[0m \u001b[39mexcept\u001b[39;00m \u001b[39mException\u001b[39;00m:\n\u001b[1;32m   1221\u001b[0m     \u001b[39mself\u001b[39m\u001b[39m.\u001b[39mlog\u001b[39m.\u001b[39mwarning(\u001b[39m\"\u001b[39m\u001b[39mInvalid Message:\u001b[39m\u001b[39m\"\u001b[39m, exc_info\u001b[39m=\u001b[39m\u001b[39mTrue\u001b[39;00m)\n",
      "\u001b[0;31mKeyboardInterrupt\u001b[0m: Interrupted by user"
     ]
    }
   ],
   "source": [
    "main_loop(nd2_directory,save_directory, 50)"
   ]
  },
  {
   "cell_type": "code",
   "execution_count": null,
   "metadata": {},
   "outputs": [],
   "source": []
  }
 ],
 "metadata": {
  "kernelspec": {
   "display_name": "Python 3.10.4 ('nd2_extractor')",
   "language": "python",
   "name": "python3"
  },
  "language_info": {
   "codemirror_mode": {
    "name": "ipython",
    "version": 3
   },
   "file_extension": ".py",
   "mimetype": "text/x-python",
   "name": "python",
   "nbconvert_exporter": "python",
   "pygments_lexer": "ipython3",
   "version": "3.10.4"
  },
  "vscode": {
   "interpreter": {
    "hash": "6916166e9d10404f2a0950fdae2a2859f6d3df615e88d7247a95e124e905d57f"
   }
  }
 },
 "nbformat": 4,
 "nbformat_minor": 4
}
