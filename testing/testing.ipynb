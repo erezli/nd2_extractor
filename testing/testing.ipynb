{
 "cells": [
  {
   "cell_type": "code",
   "execution_count": 1,
   "metadata": {},
   "outputs": [],
   "source": [
    "import matplotlib.pyplot as plt\n",
    "import pprint\n",
    "from pims import ND2Reader_SDK\n",
    "pp = pprint.PrettyPrinter(indent=0)\n",
    "from tabulate import tabulate\n",
    "from tqdm.auto import tqdm \n",
    "import cv2\n",
    "import numpy as np\n",
    "from cowpy import cow\n",
    "from celluloid import Camera\n",
    "import colorama\n",
    "from termcolor import colored\n",
    "from joblib import Parallel, delayed, parallel_backend\n",
    "import yaml\n",
    "import argparse\n",
    "import os"
   ]
  },
  {
   "cell_type": "code",
   "execution_count": 2,
   "metadata": {},
   "outputs": [],
   "source": [
    "def save_image(frame, i, img_format,save_directory,FOV,IMG_CHANNELS,channel, fill_empty=False):\n",
    "    if (np.sum(frame) == 0) and fill_empty: # Check if a frame is empty, as Nikon inserts empty frames when you have some channels being read ever n frames.\n",
    "        pass\n",
    "    else:\n",
    "        if img_format.lower() in \"tiff\":\n",
    "            cv2.imwrite(save_directory + 'xy{}_{}_T{}.tif'.format(str(FOV).zfill(3),IMG_CHANNELS[channel],str(i).zfill(4)), frame, [cv2.IMWRITE_TIFF_COMPRESSION, 1])\n",
    "        elif img_format.lower() in \"png\":\n",
    "            cv2.imwrite(save_directory + 'xy{}_{}_T{}.png'.format(str(FOV).zfill(3),IMG_CHANNELS[channel],str(i).zfill(4)), frame)\n",
    "        else:\n",
    "            raise Exception(\"Invalid format, please choose either TIFF or PNG\")\n"
   ]
  },
  {
   "cell_type": "code",
   "execution_count": 3,
   "metadata": {},
   "outputs": [],
   "source": [
    "save_directory = \"/home/georgeos/Dropbox (Cambridge University)/Nikon Nd2 Backup_Bakshi-Lab/gh464/MI13TnaAGFP_exit_dyn/extracted2/\"\n",
    "directory = \"/home/georgeos/Dropbox (Cambridge University)/Nikon Nd2 Backup_Bakshi-Lab/gh464/MI13TnaAGFP_exit_dyn/ND2/MI13TnaAGFP_exit_dyn.nd2\"\n",
    "joblib_workers = 50\n",
    "save_type = \"zarr\"\n",
    "t_stop = 20\n",
    "fill_empty=False\n"
   ]
  },
  {
   "cell_type": "code",
   "execution_count": 4,
   "metadata": {},
   "outputs": [
    {
     "name": "stderr",
     "output_type": "stream",
     "text": [
      "/home/georgeos/miniconda3/envs/nd2_extractor/lib/python3.10/site-packages/pims/base_frames.py:478: UserWarning: Please call FramesSequenceND.__init__() at the start of thethe reader initialization.\n",
      "  warn(\"Please call FramesSequenceND.__init__() at the start of the\"\n"
     ]
    },
    {
     "data": {
      "application/vnd.jupyter.widget-view+json": {
       "model_id": "2d826b03837d4a4c963f83efbbe6d71c",
       "version_major": 2,
       "version_minor": 0
      },
      "text/plain": [
       "Getting experiment info - please wait:   0%|          | 0/3 [00:00<?, ?it/s]"
      ]
     },
     "metadata": {},
     "output_type": "display_data"
    },
    {
     "name": "stdout",
     "output_type": "stream",
     "text": [
      "\u001b[1m\u001b[34mExperiment parameters (please verify before proceeding with extraction\u001b[0m\n",
      "| Parameter          | Value                  |\n",
      "|--------------------+------------------------|\n",
      "| TIMEPOINTS         | 20                     |\n",
      "| FOVs               | 39                     |\n",
      "| IMG_HEIGHT         | 2304                   |\n",
      "| IMG_WIDTH          | 2304                   |\n",
      "| IMG_CHANNELS_COUNT | 3                      |\n",
      "| IMG_CHANNELS       | ['Green', 'PC', 'Red'] |\n"
     ]
    }
   ],
   "source": [
    "if save_directory[-1] != \"/\":\n",
    "    save_directory = save_directory + \"/\"\n",
    "if save_type == \"zarr\":\n",
    "    try:\n",
    "        save_directory = os.path.dirname(save_directory)+\".zarr\"\n",
    "        os.mkdir(save_directory)\n",
    "    except:\n",
    "        pass\n",
    "else:\n",
    "    try:\n",
    "        os.mkdir(save_directory)\n",
    "    except:\n",
    "        pass\n",
    "    \n",
    "# Get parameters of the experiment\n",
    "frames =  ND2Reader_SDK(directory)\n",
    "metadata_dir = save_directory + \"/../\"\n",
    "with open(metadata_dir+'metadata.yml', 'w') as outfile:\n",
    "    yaml.dump(frames.metadata, outfile, default_flow_style=False)\n",
    "\n",
    "IMG_HEIGHT = frames.metadata[\"tile_height\"]\n",
    "IMG_WIDTH = frames.metadata[\"tile_width\"]\n",
    "IMG_CHANNELS_COUNT = frames.metadata[\"plane_count\"]\n",
    "SEQUENCES = frames.metadata[\"sequence_count\"]\n",
    "IMG_CHANNELS = []\n",
    "for x in tqdm(range(IMG_CHANNELS_COUNT), desc = \"Getting experiment info - please wait\"):\n",
    "    IMG_CHANNELS.append(frames.metadata[\"plane_{}\".format(x)][\"name\"])\n",
    "frames.close() \n",
    "num_FOVs = frames.sizes[\"m\"]\n",
    "if t_stop:\n",
    "    num_t = t_stop\n",
    "else:\n",
    "    num_t = frames.sizes[\"t\"]\n",
    "if not t_stop:\n",
    "    assert int(SEQUENCES / num_FOVs) == num_t, \"FOVs ({}) and timepoints ({}) do not match sequences ({}) in the experiment - check your inputs\".format(num_FOVs,num_t,SEQUENCES)\n",
    "print(colored(\"Experiment parameters (please verify before proceeding with extraction\".format(num_FOVs), 'blue', attrs=['bold']))\n",
    "print(tabulate([\n",
    "    ['TIMEPOINTS', num_t],\n",
    "    ['FOVs', num_FOVs],\n",
    "    ['IMG_HEIGHT', IMG_HEIGHT], \n",
    "    ['IMG_WIDTH', IMG_WIDTH],\n",
    "    [\"IMG_CHANNELS_COUNT\", IMG_CHANNELS_COUNT],\n",
    "    ['IMG_CHANNELS', IMG_CHANNELS]], headers=['Parameter', 'Value'], tablefmt='orgtbl'))\n",
    "\n",
    "\n",
    "if save_type:\n",
    "    img_format = save_type\n",
    "else:\n",
    "    print(colored(\"Choose image format: (TIFF/PNG) \", 'red', attrs=['bold']))\n",
    "    img_format = input()\n",
    "\n",
    "\n",
    "FOVs_list = list(range(num_FOVs))\n",
    "CHANNELS_list = list(range(IMG_CHANNELS_COUNT))"
   ]
  },
  {
   "cell_type": "code",
   "execution_count": 5,
   "metadata": {},
   "outputs": [],
   "source": [
    "zarr_dim = (num_FOVs, num_t, IMG_CHANNELS_COUNT, IMG_HEIGHT, IMG_WIDTH)\n",
    "chunk_size = (1,1,1,IMG_HEIGHT, IMG_WIDTH)\n",
    "import zarr\n",
    "from numcodecs import Blosc"
   ]
  },
  {
   "cell_type": "code",
   "execution_count": 6,
   "metadata": {},
   "outputs": [],
   "source": [
    "zarr_dtype = {\n",
    "    16: np.uint16,\n",
    "    8: np.uint8\n",
    "}"
   ]
  },
  {
   "cell_type": "code",
   "execution_count": 10,
   "metadata": {},
   "outputs": [],
   "source": [
    "\n",
    "\n",
    "compressor = Blosc(cname='zstd', clevel=6, shuffle=Blosc.BITSHUFFLE)\n",
    "zarr_file = zarr.open('data2/example.zarr', mode='w', shape=zarr_dim, chunks=chunk_size, dtype=zarr_dtype[frames.metadata[\"bitsize_memory\"]], compressor = compressor)"
   ]
  },
  {
   "cell_type": "code",
   "execution_count": 11,
   "metadata": {},
   "outputs": [],
   "source": [
    "def zarr_saver(frame, zarr_file, m, t, c):\n",
    "    zarr_file[m,t,c] = frame\n"
   ]
  },
  {
   "cell_type": "code",
   "execution_count": 12,
   "metadata": {},
   "outputs": [],
   "source": [
    "from copy import deepcopy"
   ]
  },
  {
   "cell_type": "code",
   "execution_count": 13,
   "metadata": {},
   "outputs": [
    {
     "data": {
      "text/plain": [
       "[0, 1, 2]"
      ]
     },
     "execution_count": 13,
     "metadata": {},
     "output_type": "execute_result"
    }
   ],
   "source": [
    "CHANNELS_list"
   ]
  },
  {
   "cell_type": "code",
   "execution_count": 14,
   "metadata": {},
   "outputs": [
    {
     "data": {
      "application/vnd.jupyter.widget-view+json": {
       "model_id": "c6773f7c6c55429c8ffef1887867f2ba",
       "version_major": 2,
       "version_minor": 0
      },
      "text/plain": [
       "Overall (FOV) progress:   0%|          | 0/39 [00:00<?, ?it/s]"
      ]
     },
     "metadata": {},
     "output_type": "display_data"
    },
    {
     "data": {
      "application/vnd.jupyter.widget-view+json": {
       "model_id": "0f9b6ce349894725b52c9082da4e35c0",
       "version_major": 2,
       "version_minor": 0
      },
      "text/plain": [
       "Channel progress in FOV 0:   0%|          | 0/3 [00:00<?, ?it/s]"
      ]
     },
     "metadata": {},
     "output_type": "display_data"
    },
    {
     "data": {
      "application/vnd.jupyter.widget-view+json": {
       "model_id": "61666f34dc9b4a3ba571a232c787e868",
       "version_major": 2,
       "version_minor": 0
      },
      "text/plain": [
       "Frame progress in channel Green:   0%|          | 0/20 [00:00<?, ?it/s]"
      ]
     },
     "metadata": {},
     "output_type": "display_data"
    },
    {
     "data": {
      "application/vnd.jupyter.widget-view+json": {
       "model_id": "fdee6a6d2530475d9fcef068da2a618e",
       "version_major": 2,
       "version_minor": 0
      },
      "text/plain": [
       "Frame progress in channel PC:   0%|          | 0/20 [00:00<?, ?it/s]"
      ]
     },
     "metadata": {},
     "output_type": "display_data"
    },
    {
     "data": {
      "application/vnd.jupyter.widget-view+json": {
       "model_id": "07f06ffc251e4b4faf0e8158157b1045",
       "version_major": 2,
       "version_minor": 0
      },
      "text/plain": [
       "Frame progress in channel Red:   0%|          | 0/20 [00:00<?, ?it/s]"
      ]
     },
     "metadata": {},
     "output_type": "display_data"
    },
    {
     "data": {
      "application/vnd.jupyter.widget-view+json": {
       "model_id": "8d7ddc909898412f968adfd816bdc623",
       "version_major": 2,
       "version_minor": 0
      },
      "text/plain": [
       "Channel progress in FOV 1:   0%|          | 0/3 [00:00<?, ?it/s]"
      ]
     },
     "metadata": {},
     "output_type": "display_data"
    },
    {
     "data": {
      "application/vnd.jupyter.widget-view+json": {
       "model_id": "935c9a846c824b9591d3f6634b9d686a",
       "version_major": 2,
       "version_minor": 0
      },
      "text/plain": [
       "Frame progress in channel Green:   0%|          | 0/20 [00:00<?, ?it/s]"
      ]
     },
     "metadata": {},
     "output_type": "display_data"
    },
    {
     "data": {
      "application/vnd.jupyter.widget-view+json": {
       "model_id": "923d4af13df34929b733c5e09996713d",
       "version_major": 2,
       "version_minor": 0
      },
      "text/plain": [
       "Frame progress in channel PC:   0%|          | 0/20 [00:00<?, ?it/s]"
      ]
     },
     "metadata": {},
     "output_type": "display_data"
    },
    {
     "data": {
      "application/vnd.jupyter.widget-view+json": {
       "model_id": "9edc73a507a143ea8d9b48fd28f8a98b",
       "version_major": 2,
       "version_minor": 0
      },
      "text/plain": [
       "Frame progress in channel Red:   0%|          | 0/20 [00:00<?, ?it/s]"
      ]
     },
     "metadata": {},
     "output_type": "display_data"
    },
    {
     "data": {
      "application/vnd.jupyter.widget-view+json": {
       "model_id": "8c8a6293b74948268d4db089b66f0100",
       "version_major": 2,
       "version_minor": 0
      },
      "text/plain": [
       "Channel progress in FOV 2:   0%|          | 0/3 [00:00<?, ?it/s]"
      ]
     },
     "metadata": {},
     "output_type": "display_data"
    },
    {
     "data": {
      "application/vnd.jupyter.widget-view+json": {
       "model_id": "e92b241fcbff4323bf19ff86def2a764",
       "version_major": 2,
       "version_minor": 0
      },
      "text/plain": [
       "Frame progress in channel Green:   0%|          | 0/20 [00:00<?, ?it/s]"
      ]
     },
     "metadata": {},
     "output_type": "display_data"
    },
    {
     "data": {
      "application/vnd.jupyter.widget-view+json": {
       "model_id": "9a2b4564642044ce9a4dafc34107cd89",
       "version_major": 2,
       "version_minor": 0
      },
      "text/plain": [
       "Frame progress in channel PC:   0%|          | 0/20 [00:00<?, ?it/s]"
      ]
     },
     "metadata": {},
     "output_type": "display_data"
    },
    {
     "data": {
      "application/vnd.jupyter.widget-view+json": {
       "model_id": "d09fd04676504393a064aa47b3407b7e",
       "version_major": 2,
       "version_minor": 0
      },
      "text/plain": [
       "Frame progress in channel Red:   0%|          | 0/20 [00:00<?, ?it/s]"
      ]
     },
     "metadata": {},
     "output_type": "display_data"
    },
    {
     "data": {
      "application/vnd.jupyter.widget-view+json": {
       "model_id": "309c91bdcf294593b5e56e06de0fae57",
       "version_major": 2,
       "version_minor": 0
      },
      "text/plain": [
       "Channel progress in FOV 3:   0%|          | 0/3 [00:00<?, ?it/s]"
      ]
     },
     "metadata": {},
     "output_type": "display_data"
    },
    {
     "data": {
      "application/vnd.jupyter.widget-view+json": {
       "model_id": "f66d864cdf1d4d32829bbcbbc7328fa0",
       "version_major": 2,
       "version_minor": 0
      },
      "text/plain": [
       "Frame progress in channel Green:   0%|          | 0/20 [00:00<?, ?it/s]"
      ]
     },
     "metadata": {},
     "output_type": "display_data"
    },
    {
     "data": {
      "application/vnd.jupyter.widget-view+json": {
       "model_id": "83ed07b06b4b4511a6eb8f4f1ded7051",
       "version_major": 2,
       "version_minor": 0
      },
      "text/plain": [
       "Frame progress in channel PC:   0%|          | 0/20 [00:00<?, ?it/s]"
      ]
     },
     "metadata": {},
     "output_type": "display_data"
    },
    {
     "data": {
      "application/vnd.jupyter.widget-view+json": {
       "model_id": "47db8c5ae5244dc1a2870a282b250d87",
       "version_major": 2,
       "version_minor": 0
      },
      "text/plain": [
       "Frame progress in channel Red:   0%|          | 0/20 [00:00<?, ?it/s]"
      ]
     },
     "metadata": {},
     "output_type": "display_data"
    },
    {
     "data": {
      "application/vnd.jupyter.widget-view+json": {
       "model_id": "b6cbd32407bb4907a794f7a89cbcb7e6",
       "version_major": 2,
       "version_minor": 0
      },
      "text/plain": [
       "Channel progress in FOV 4:   0%|          | 0/3 [00:00<?, ?it/s]"
      ]
     },
     "metadata": {},
     "output_type": "display_data"
    },
    {
     "data": {
      "application/vnd.jupyter.widget-view+json": {
       "model_id": "f4f159db7b194c4a912fe2c06eef1ab1",
       "version_major": 2,
       "version_minor": 0
      },
      "text/plain": [
       "Frame progress in channel Green:   0%|          | 0/20 [00:00<?, ?it/s]"
      ]
     },
     "metadata": {},
     "output_type": "display_data"
    },
    {
     "data": {
      "application/vnd.jupyter.widget-view+json": {
       "model_id": "2148230ad66047649bfd59fc87076188",
       "version_major": 2,
       "version_minor": 0
      },
      "text/plain": [
       "Frame progress in channel PC:   0%|          | 0/20 [00:00<?, ?it/s]"
      ]
     },
     "metadata": {},
     "output_type": "display_data"
    },
    {
     "data": {
      "application/vnd.jupyter.widget-view+json": {
       "model_id": "70372f9e7433455c820970de5b8bf879",
       "version_major": 2,
       "version_minor": 0
      },
      "text/plain": [
       "Frame progress in channel Red:   0%|          | 0/20 [00:00<?, ?it/s]"
      ]
     },
     "metadata": {},
     "output_type": "display_data"
    },
    {
     "data": {
      "application/vnd.jupyter.widget-view+json": {
       "model_id": "04fed5ccefa946098f61358201b68abf",
       "version_major": 2,
       "version_minor": 0
      },
      "text/plain": [
       "Channel progress in FOV 5:   0%|          | 0/3 [00:00<?, ?it/s]"
      ]
     },
     "metadata": {},
     "output_type": "display_data"
    },
    {
     "data": {
      "application/vnd.jupyter.widget-view+json": {
       "model_id": "abe6e870b75f430d989f0f48eb55b46a",
       "version_major": 2,
       "version_minor": 0
      },
      "text/plain": [
       "Frame progress in channel Green:   0%|          | 0/20 [00:00<?, ?it/s]"
      ]
     },
     "metadata": {},
     "output_type": "display_data"
    },
    {
     "data": {
      "application/vnd.jupyter.widget-view+json": {
       "model_id": "6c292450652d43699278a4d78f545c36",
       "version_major": 2,
       "version_minor": 0
      },
      "text/plain": [
       "Frame progress in channel PC:   0%|          | 0/20 [00:00<?, ?it/s]"
      ]
     },
     "metadata": {},
     "output_type": "display_data"
    },
    {
     "data": {
      "application/vnd.jupyter.widget-view+json": {
       "model_id": "5b3f945dd59044eeb3f5fe0588f2d860",
       "version_major": 2,
       "version_minor": 0
      },
      "text/plain": [
       "Frame progress in channel Red:   0%|          | 0/20 [00:00<?, ?it/s]"
      ]
     },
     "metadata": {},
     "output_type": "display_data"
    },
    {
     "data": {
      "application/vnd.jupyter.widget-view+json": {
       "model_id": "5086f39e5c8d4baf8bf5d87f52598a5c",
       "version_major": 2,
       "version_minor": 0
      },
      "text/plain": [
       "Channel progress in FOV 6:   0%|          | 0/3 [00:00<?, ?it/s]"
      ]
     },
     "metadata": {},
     "output_type": "display_data"
    },
    {
     "data": {
      "application/vnd.jupyter.widget-view+json": {
       "model_id": "09aa3261e484417c8e659a2744d1e9f5",
       "version_major": 2,
       "version_minor": 0
      },
      "text/plain": [
       "Frame progress in channel Green:   0%|          | 0/20 [00:00<?, ?it/s]"
      ]
     },
     "metadata": {},
     "output_type": "display_data"
    },
    {
     "data": {
      "application/vnd.jupyter.widget-view+json": {
       "model_id": "b1eab2aef78548cfa15ea48413982065",
       "version_major": 2,
       "version_minor": 0
      },
      "text/plain": [
       "Frame progress in channel PC:   0%|          | 0/20 [00:00<?, ?it/s]"
      ]
     },
     "metadata": {},
     "output_type": "display_data"
    },
    {
     "data": {
      "application/vnd.jupyter.widget-view+json": {
       "model_id": "ecd477dd425745bb93eaacb44edddb27",
       "version_major": 2,
       "version_minor": 0
      },
      "text/plain": [
       "Frame progress in channel Red:   0%|          | 0/20 [00:00<?, ?it/s]"
      ]
     },
     "metadata": {},
     "output_type": "display_data"
    },
    {
     "data": {
      "application/vnd.jupyter.widget-view+json": {
       "model_id": "e06ca34f9a7348d098e6ffa43aedad8c",
       "version_major": 2,
       "version_minor": 0
      },
      "text/plain": [
       "Channel progress in FOV 7:   0%|          | 0/3 [00:00<?, ?it/s]"
      ]
     },
     "metadata": {},
     "output_type": "display_data"
    },
    {
     "data": {
      "application/vnd.jupyter.widget-view+json": {
       "model_id": "fdc21f38a9bf4d99a3c89437759be4b2",
       "version_major": 2,
       "version_minor": 0
      },
      "text/plain": [
       "Frame progress in channel Green:   0%|          | 0/20 [00:00<?, ?it/s]"
      ]
     },
     "metadata": {},
     "output_type": "display_data"
    },
    {
     "data": {
      "application/vnd.jupyter.widget-view+json": {
       "model_id": "5917baf514fa45d0bbf6f34699dd81e4",
       "version_major": 2,
       "version_minor": 0
      },
      "text/plain": [
       "Frame progress in channel PC:   0%|          | 0/20 [00:00<?, ?it/s]"
      ]
     },
     "metadata": {},
     "output_type": "display_data"
    },
    {
     "data": {
      "application/vnd.jupyter.widget-view+json": {
       "model_id": "cdae7f578dd24e149d4290338c698921",
       "version_major": 2,
       "version_minor": 0
      },
      "text/plain": [
       "Frame progress in channel Red:   0%|          | 0/20 [00:00<?, ?it/s]"
      ]
     },
     "metadata": {},
     "output_type": "display_data"
    },
    {
     "data": {
      "application/vnd.jupyter.widget-view+json": {
       "model_id": "56277a0718f346e5a5bcee01ae483d92",
       "version_major": 2,
       "version_minor": 0
      },
      "text/plain": [
       "Channel progress in FOV 8:   0%|          | 0/3 [00:00<?, ?it/s]"
      ]
     },
     "metadata": {},
     "output_type": "display_data"
    },
    {
     "data": {
      "application/vnd.jupyter.widget-view+json": {
       "model_id": "edb87c54249c469b960c88c69458b58e",
       "version_major": 2,
       "version_minor": 0
      },
      "text/plain": [
       "Frame progress in channel Green:   0%|          | 0/20 [00:00<?, ?it/s]"
      ]
     },
     "metadata": {},
     "output_type": "display_data"
    },
    {
     "data": {
      "application/vnd.jupyter.widget-view+json": {
       "model_id": "9ea10bf2b60e45bcbb3582f9d7e49a5e",
       "version_major": 2,
       "version_minor": 0
      },
      "text/plain": [
       "Frame progress in channel PC:   0%|          | 0/20 [00:00<?, ?it/s]"
      ]
     },
     "metadata": {},
     "output_type": "display_data"
    },
    {
     "data": {
      "application/vnd.jupyter.widget-view+json": {
       "model_id": "34a524cf1a004c66824d7a57380252b3",
       "version_major": 2,
       "version_minor": 0
      },
      "text/plain": [
       "Frame progress in channel Red:   0%|          | 0/20 [00:00<?, ?it/s]"
      ]
     },
     "metadata": {},
     "output_type": "display_data"
    },
    {
     "data": {
      "application/vnd.jupyter.widget-view+json": {
       "model_id": "2c69b2e3f70048e8b688abd0440a29bd",
       "version_major": 2,
       "version_minor": 0
      },
      "text/plain": [
       "Channel progress in FOV 9:   0%|          | 0/3 [00:00<?, ?it/s]"
      ]
     },
     "metadata": {},
     "output_type": "display_data"
    },
    {
     "data": {
      "application/vnd.jupyter.widget-view+json": {
       "model_id": "fadda70098564fa6b7b3236267e1dd2f",
       "version_major": 2,
       "version_minor": 0
      },
      "text/plain": [
       "Frame progress in channel Green:   0%|          | 0/20 [00:00<?, ?it/s]"
      ]
     },
     "metadata": {},
     "output_type": "display_data"
    },
    {
     "data": {
      "application/vnd.jupyter.widget-view+json": {
       "model_id": "00e862a354a241078e969c6807456888",
       "version_major": 2,
       "version_minor": 0
      },
      "text/plain": [
       "Frame progress in channel PC:   0%|          | 0/20 [00:00<?, ?it/s]"
      ]
     },
     "metadata": {},
     "output_type": "display_data"
    },
    {
     "data": {
      "application/vnd.jupyter.widget-view+json": {
       "model_id": "2d6b57fd66ab43a3a0ed802fbbd0ee4b",
       "version_major": 2,
       "version_minor": 0
      },
      "text/plain": [
       "Frame progress in channel Red:   0%|          | 0/20 [00:00<?, ?it/s]"
      ]
     },
     "metadata": {},
     "output_type": "display_data"
    },
    {
     "data": {
      "application/vnd.jupyter.widget-view+json": {
       "model_id": "ddbe5a78c7a84333a9272c063471676c",
       "version_major": 2,
       "version_minor": 0
      },
      "text/plain": [
       "Channel progress in FOV 10:   0%|          | 0/3 [00:00<?, ?it/s]"
      ]
     },
     "metadata": {},
     "output_type": "display_data"
    },
    {
     "data": {
      "application/vnd.jupyter.widget-view+json": {
       "model_id": "a2aaec5e32b6470cbf1c381493481c1d",
       "version_major": 2,
       "version_minor": 0
      },
      "text/plain": [
       "Frame progress in channel Green:   0%|          | 0/20 [00:00<?, ?it/s]"
      ]
     },
     "metadata": {},
     "output_type": "display_data"
    },
    {
     "data": {
      "application/vnd.jupyter.widget-view+json": {
       "model_id": "56031b1b8b80406994b2246dd0209113",
       "version_major": 2,
       "version_minor": 0
      },
      "text/plain": [
       "Frame progress in channel PC:   0%|          | 0/20 [00:00<?, ?it/s]"
      ]
     },
     "metadata": {},
     "output_type": "display_data"
    },
    {
     "data": {
      "application/vnd.jupyter.widget-view+json": {
       "model_id": "e2346498e8bc4777adb089c14b8064dc",
       "version_major": 2,
       "version_minor": 0
      },
      "text/plain": [
       "Frame progress in channel Red:   0%|          | 0/20 [00:00<?, ?it/s]"
      ]
     },
     "metadata": {},
     "output_type": "display_data"
    },
    {
     "data": {
      "application/vnd.jupyter.widget-view+json": {
       "model_id": "3e5a61caaa8d4d1b9cc08275ea8a6fe4",
       "version_major": 2,
       "version_minor": 0
      },
      "text/plain": [
       "Channel progress in FOV 11:   0%|          | 0/3 [00:00<?, ?it/s]"
      ]
     },
     "metadata": {},
     "output_type": "display_data"
    },
    {
     "data": {
      "application/vnd.jupyter.widget-view+json": {
       "model_id": "0fe526a720014e9e92c4685075495714",
       "version_major": 2,
       "version_minor": 0
      },
      "text/plain": [
       "Frame progress in channel Green:   0%|          | 0/20 [00:00<?, ?it/s]"
      ]
     },
     "metadata": {},
     "output_type": "display_data"
    },
    {
     "data": {
      "application/vnd.jupyter.widget-view+json": {
       "model_id": "d9d707c06aea401bbb0e05f265e5ba64",
       "version_major": 2,
       "version_minor": 0
      },
      "text/plain": [
       "Frame progress in channel PC:   0%|          | 0/20 [00:00<?, ?it/s]"
      ]
     },
     "metadata": {},
     "output_type": "display_data"
    },
    {
     "data": {
      "application/vnd.jupyter.widget-view+json": {
       "model_id": "99de428dccfa41158e1d1849a0604646",
       "version_major": 2,
       "version_minor": 0
      },
      "text/plain": [
       "Frame progress in channel Red:   0%|          | 0/20 [00:00<?, ?it/s]"
      ]
     },
     "metadata": {},
     "output_type": "display_data"
    },
    {
     "data": {
      "application/vnd.jupyter.widget-view+json": {
       "model_id": "5604066ef6e84fbba4a50ace1f995f31",
       "version_major": 2,
       "version_minor": 0
      },
      "text/plain": [
       "Channel progress in FOV 12:   0%|          | 0/3 [00:00<?, ?it/s]"
      ]
     },
     "metadata": {},
     "output_type": "display_data"
    },
    {
     "data": {
      "application/vnd.jupyter.widget-view+json": {
       "model_id": "3f1561a7932843489c5adfce332c3a86",
       "version_major": 2,
       "version_minor": 0
      },
      "text/plain": [
       "Frame progress in channel Green:   0%|          | 0/20 [00:00<?, ?it/s]"
      ]
     },
     "metadata": {},
     "output_type": "display_data"
    },
    {
     "data": {
      "application/vnd.jupyter.widget-view+json": {
       "model_id": "0b9fc1fa2a7042c09dd913355e28e963",
       "version_major": 2,
       "version_minor": 0
      },
      "text/plain": [
       "Frame progress in channel PC:   0%|          | 0/20 [00:00<?, ?it/s]"
      ]
     },
     "metadata": {},
     "output_type": "display_data"
    },
    {
     "data": {
      "application/vnd.jupyter.widget-view+json": {
       "model_id": "56a166d418b34e81be53bfabe6dcd78d",
       "version_major": 2,
       "version_minor": 0
      },
      "text/plain": [
       "Frame progress in channel Red:   0%|          | 0/20 [00:00<?, ?it/s]"
      ]
     },
     "metadata": {},
     "output_type": "display_data"
    },
    {
     "data": {
      "application/vnd.jupyter.widget-view+json": {
       "model_id": "d4f8df0b04694cd8ac79a5109eb1bdb9",
       "version_major": 2,
       "version_minor": 0
      },
      "text/plain": [
       "Channel progress in FOV 13:   0%|          | 0/3 [00:00<?, ?it/s]"
      ]
     },
     "metadata": {},
     "output_type": "display_data"
    },
    {
     "data": {
      "application/vnd.jupyter.widget-view+json": {
       "model_id": "716bffb60c334f37b74a2855b62a4d68",
       "version_major": 2,
       "version_minor": 0
      },
      "text/plain": [
       "Frame progress in channel Green:   0%|          | 0/20 [00:00<?, ?it/s]"
      ]
     },
     "metadata": {},
     "output_type": "display_data"
    },
    {
     "data": {
      "application/vnd.jupyter.widget-view+json": {
       "model_id": "ea71a015ea974ed4a08d9d175cb7bbae",
       "version_major": 2,
       "version_minor": 0
      },
      "text/plain": [
       "Frame progress in channel PC:   0%|          | 0/20 [00:00<?, ?it/s]"
      ]
     },
     "metadata": {},
     "output_type": "display_data"
    },
    {
     "data": {
      "application/vnd.jupyter.widget-view+json": {
       "model_id": "78f5007b854243f98468ab21702d87b7",
       "version_major": 2,
       "version_minor": 0
      },
      "text/plain": [
       "Frame progress in channel Red:   0%|          | 0/20 [00:00<?, ?it/s]"
      ]
     },
     "metadata": {},
     "output_type": "display_data"
    },
    {
     "data": {
      "application/vnd.jupyter.widget-view+json": {
       "model_id": "a831f583a4fe42c2b5c5117996f45bcc",
       "version_major": 2,
       "version_minor": 0
      },
      "text/plain": [
       "Channel progress in FOV 14:   0%|          | 0/3 [00:00<?, ?it/s]"
      ]
     },
     "metadata": {},
     "output_type": "display_data"
    },
    {
     "data": {
      "application/vnd.jupyter.widget-view+json": {
       "model_id": "29a88aba67b44eb8a2b2a68431a030b1",
       "version_major": 2,
       "version_minor": 0
      },
      "text/plain": [
       "Frame progress in channel Green:   0%|          | 0/20 [00:00<?, ?it/s]"
      ]
     },
     "metadata": {},
     "output_type": "display_data"
    },
    {
     "data": {
      "application/vnd.jupyter.widget-view+json": {
       "model_id": "4aa4d0e2ddcf42d28e73e0b64884f02b",
       "version_major": 2,
       "version_minor": 0
      },
      "text/plain": [
       "Frame progress in channel PC:   0%|          | 0/20 [00:00<?, ?it/s]"
      ]
     },
     "metadata": {},
     "output_type": "display_data"
    },
    {
     "data": {
      "application/vnd.jupyter.widget-view+json": {
       "model_id": "4077816182a8421cbd545118152be30a",
       "version_major": 2,
       "version_minor": 0
      },
      "text/plain": [
       "Frame progress in channel Red:   0%|          | 0/20 [00:00<?, ?it/s]"
      ]
     },
     "metadata": {},
     "output_type": "display_data"
    },
    {
     "data": {
      "application/vnd.jupyter.widget-view+json": {
       "model_id": "820867ff2f1e48279686da869ed8da41",
       "version_major": 2,
       "version_minor": 0
      },
      "text/plain": [
       "Channel progress in FOV 15:   0%|          | 0/3 [00:00<?, ?it/s]"
      ]
     },
     "metadata": {},
     "output_type": "display_data"
    },
    {
     "data": {
      "application/vnd.jupyter.widget-view+json": {
       "model_id": "eff738755cee458da1ae2b70211dbeea",
       "version_major": 2,
       "version_minor": 0
      },
      "text/plain": [
       "Frame progress in channel Green:   0%|          | 0/20 [00:00<?, ?it/s]"
      ]
     },
     "metadata": {},
     "output_type": "display_data"
    },
    {
     "data": {
      "application/vnd.jupyter.widget-view+json": {
       "model_id": "571478e858324d2984d7c59bd1c72f8b",
       "version_major": 2,
       "version_minor": 0
      },
      "text/plain": [
       "Frame progress in channel PC:   0%|          | 0/20 [00:00<?, ?it/s]"
      ]
     },
     "metadata": {},
     "output_type": "display_data"
    },
    {
     "data": {
      "application/vnd.jupyter.widget-view+json": {
       "model_id": "dd90ba8c5cfa4f21839185bd3ea88e38",
       "version_major": 2,
       "version_minor": 0
      },
      "text/plain": [
       "Frame progress in channel Red:   0%|          | 0/20 [00:00<?, ?it/s]"
      ]
     },
     "metadata": {},
     "output_type": "display_data"
    },
    {
     "data": {
      "application/vnd.jupyter.widget-view+json": {
       "model_id": "550141557f8847ce987377f287455bbf",
       "version_major": 2,
       "version_minor": 0
      },
      "text/plain": [
       "Channel progress in FOV 16:   0%|          | 0/3 [00:00<?, ?it/s]"
      ]
     },
     "metadata": {},
     "output_type": "display_data"
    },
    {
     "data": {
      "application/vnd.jupyter.widget-view+json": {
       "model_id": "614090b7c88b42c0b0f6e1083317a7c8",
       "version_major": 2,
       "version_minor": 0
      },
      "text/plain": [
       "Frame progress in channel Green:   0%|          | 0/20 [00:00<?, ?it/s]"
      ]
     },
     "metadata": {},
     "output_type": "display_data"
    },
    {
     "data": {
      "application/vnd.jupyter.widget-view+json": {
       "model_id": "2a7785760e6143c083973604a16416c5",
       "version_major": 2,
       "version_minor": 0
      },
      "text/plain": [
       "Frame progress in channel PC:   0%|          | 0/20 [00:00<?, ?it/s]"
      ]
     },
     "metadata": {},
     "output_type": "display_data"
    },
    {
     "data": {
      "application/vnd.jupyter.widget-view+json": {
       "model_id": "2970462d1e1945438fa2879525a1b1dc",
       "version_major": 2,
       "version_minor": 0
      },
      "text/plain": [
       "Frame progress in channel Red:   0%|          | 0/20 [00:00<?, ?it/s]"
      ]
     },
     "metadata": {},
     "output_type": "display_data"
    },
    {
     "data": {
      "application/vnd.jupyter.widget-view+json": {
       "model_id": "e3a63bbcf0864162bc85e0d3efd27b88",
       "version_major": 2,
       "version_minor": 0
      },
      "text/plain": [
       "Channel progress in FOV 17:   0%|          | 0/3 [00:00<?, ?it/s]"
      ]
     },
     "metadata": {},
     "output_type": "display_data"
    },
    {
     "data": {
      "application/vnd.jupyter.widget-view+json": {
       "model_id": "e1cd16dacbe64ba99427505a659eba9e",
       "version_major": 2,
       "version_minor": 0
      },
      "text/plain": [
       "Frame progress in channel Green:   0%|          | 0/20 [00:00<?, ?it/s]"
      ]
     },
     "metadata": {},
     "output_type": "display_data"
    },
    {
     "data": {
      "application/vnd.jupyter.widget-view+json": {
       "model_id": "35b6955e45984ec3a5109a5b3ecb71a0",
       "version_major": 2,
       "version_minor": 0
      },
      "text/plain": [
       "Frame progress in channel PC:   0%|          | 0/20 [00:00<?, ?it/s]"
      ]
     },
     "metadata": {},
     "output_type": "display_data"
    },
    {
     "data": {
      "application/vnd.jupyter.widget-view+json": {
       "model_id": "e4987aa710944f14b95bb8f175b0a57c",
       "version_major": 2,
       "version_minor": 0
      },
      "text/plain": [
       "Frame progress in channel Red:   0%|          | 0/20 [00:00<?, ?it/s]"
      ]
     },
     "metadata": {},
     "output_type": "display_data"
    },
    {
     "data": {
      "application/vnd.jupyter.widget-view+json": {
       "model_id": "a5cbebc223644cf68027899043d4fa19",
       "version_major": 2,
       "version_minor": 0
      },
      "text/plain": [
       "Channel progress in FOV 18:   0%|          | 0/3 [00:00<?, ?it/s]"
      ]
     },
     "metadata": {},
     "output_type": "display_data"
    },
    {
     "data": {
      "application/vnd.jupyter.widget-view+json": {
       "model_id": "e741fec33a5b4d048c1b11c171ed90e1",
       "version_major": 2,
       "version_minor": 0
      },
      "text/plain": [
       "Frame progress in channel Green:   0%|          | 0/20 [00:00<?, ?it/s]"
      ]
     },
     "metadata": {},
     "output_type": "display_data"
    },
    {
     "data": {
      "application/vnd.jupyter.widget-view+json": {
       "model_id": "d9a6c4d5216944aa9c161c6019bacb48",
       "version_major": 2,
       "version_minor": 0
      },
      "text/plain": [
       "Frame progress in channel PC:   0%|          | 0/20 [00:00<?, ?it/s]"
      ]
     },
     "metadata": {},
     "output_type": "display_data"
    },
    {
     "data": {
      "application/vnd.jupyter.widget-view+json": {
       "model_id": "a5ff2b57b7a34721a00907ed7ea620e8",
       "version_major": 2,
       "version_minor": 0
      },
      "text/plain": [
       "Frame progress in channel Red:   0%|          | 0/20 [00:00<?, ?it/s]"
      ]
     },
     "metadata": {},
     "output_type": "display_data"
    },
    {
     "data": {
      "application/vnd.jupyter.widget-view+json": {
       "model_id": "a17710cd36cf41ee9d04b5d8ff9d5971",
       "version_major": 2,
       "version_minor": 0
      },
      "text/plain": [
       "Channel progress in FOV 19:   0%|          | 0/3 [00:00<?, ?it/s]"
      ]
     },
     "metadata": {},
     "output_type": "display_data"
    },
    {
     "data": {
      "application/vnd.jupyter.widget-view+json": {
       "model_id": "5ec20950123a4702a85dff1c5023e7e1",
       "version_major": 2,
       "version_minor": 0
      },
      "text/plain": [
       "Frame progress in channel Green:   0%|          | 0/20 [00:00<?, ?it/s]"
      ]
     },
     "metadata": {},
     "output_type": "display_data"
    },
    {
     "data": {
      "application/vnd.jupyter.widget-view+json": {
       "model_id": "2cd26f2d4df94a9c8c596ba566621be6",
       "version_major": 2,
       "version_minor": 0
      },
      "text/plain": [
       "Frame progress in channel PC:   0%|          | 0/20 [00:00<?, ?it/s]"
      ]
     },
     "metadata": {},
     "output_type": "display_data"
    },
    {
     "data": {
      "application/vnd.jupyter.widget-view+json": {
       "model_id": "1e7c8c00ff064dd2af045948d317acd2",
       "version_major": 2,
       "version_minor": 0
      },
      "text/plain": [
       "Frame progress in channel Red:   0%|          | 0/20 [00:00<?, ?it/s]"
      ]
     },
     "metadata": {},
     "output_type": "display_data"
    },
    {
     "data": {
      "application/vnd.jupyter.widget-view+json": {
       "model_id": "ee129552a7044d5fa5302eb4c00b1fe6",
       "version_major": 2,
       "version_minor": 0
      },
      "text/plain": [
       "Channel progress in FOV 20:   0%|          | 0/3 [00:00<?, ?it/s]"
      ]
     },
     "metadata": {},
     "output_type": "display_data"
    },
    {
     "data": {
      "application/vnd.jupyter.widget-view+json": {
       "model_id": "ce7666326cf44ae9af9f6a48be55f5a4",
       "version_major": 2,
       "version_minor": 0
      },
      "text/plain": [
       "Frame progress in channel Green:   0%|          | 0/20 [00:00<?, ?it/s]"
      ]
     },
     "metadata": {},
     "output_type": "display_data"
    },
    {
     "data": {
      "application/vnd.jupyter.widget-view+json": {
       "model_id": "85e829aa013849cfb57240aeb7f6c1ea",
       "version_major": 2,
       "version_minor": 0
      },
      "text/plain": [
       "Frame progress in channel PC:   0%|          | 0/20 [00:00<?, ?it/s]"
      ]
     },
     "metadata": {},
     "output_type": "display_data"
    },
    {
     "data": {
      "application/vnd.jupyter.widget-view+json": {
       "model_id": "4946c00b025241f2abf8d454940d8309",
       "version_major": 2,
       "version_minor": 0
      },
      "text/plain": [
       "Frame progress in channel Red:   0%|          | 0/20 [00:00<?, ?it/s]"
      ]
     },
     "metadata": {},
     "output_type": "display_data"
    },
    {
     "data": {
      "application/vnd.jupyter.widget-view+json": {
       "model_id": "07d351e1873d4ae98ce6c34a4ba0c2e4",
       "version_major": 2,
       "version_minor": 0
      },
      "text/plain": [
       "Channel progress in FOV 21:   0%|          | 0/3 [00:00<?, ?it/s]"
      ]
     },
     "metadata": {},
     "output_type": "display_data"
    },
    {
     "data": {
      "application/vnd.jupyter.widget-view+json": {
       "model_id": "5fab9593c87b443aab8304a2ba3ec766",
       "version_major": 2,
       "version_minor": 0
      },
      "text/plain": [
       "Frame progress in channel Green:   0%|          | 0/20 [00:00<?, ?it/s]"
      ]
     },
     "metadata": {},
     "output_type": "display_data"
    },
    {
     "data": {
      "application/vnd.jupyter.widget-view+json": {
       "model_id": "a1ec6fe0cfde4b73b29267bc827c9818",
       "version_major": 2,
       "version_minor": 0
      },
      "text/plain": [
       "Frame progress in channel PC:   0%|          | 0/20 [00:00<?, ?it/s]"
      ]
     },
     "metadata": {},
     "output_type": "display_data"
    },
    {
     "data": {
      "application/vnd.jupyter.widget-view+json": {
       "model_id": "e4cc3036b97d4684a2637f725344bd09",
       "version_major": 2,
       "version_minor": 0
      },
      "text/plain": [
       "Frame progress in channel Red:   0%|          | 0/20 [00:00<?, ?it/s]"
      ]
     },
     "metadata": {},
     "output_type": "display_data"
    },
    {
     "data": {
      "application/vnd.jupyter.widget-view+json": {
       "model_id": "4f2ac32951434bbca389b7ccdcd54c02",
       "version_major": 2,
       "version_minor": 0
      },
      "text/plain": [
       "Channel progress in FOV 22:   0%|          | 0/3 [00:00<?, ?it/s]"
      ]
     },
     "metadata": {},
     "output_type": "display_data"
    },
    {
     "data": {
      "application/vnd.jupyter.widget-view+json": {
       "model_id": "64b62c7c59b54791ac43e9f263b8b5f1",
       "version_major": 2,
       "version_minor": 0
      },
      "text/plain": [
       "Frame progress in channel Green:   0%|          | 0/20 [00:00<?, ?it/s]"
      ]
     },
     "metadata": {},
     "output_type": "display_data"
    },
    {
     "data": {
      "application/vnd.jupyter.widget-view+json": {
       "model_id": "e43489618d3040e4ad1ec4b29632f180",
       "version_major": 2,
       "version_minor": 0
      },
      "text/plain": [
       "Frame progress in channel PC:   0%|          | 0/20 [00:00<?, ?it/s]"
      ]
     },
     "metadata": {},
     "output_type": "display_data"
    },
    {
     "data": {
      "application/vnd.jupyter.widget-view+json": {
       "model_id": "8a41644420964121b31bb925503f5289",
       "version_major": 2,
       "version_minor": 0
      },
      "text/plain": [
       "Frame progress in channel Red:   0%|          | 0/20 [00:00<?, ?it/s]"
      ]
     },
     "metadata": {},
     "output_type": "display_data"
    },
    {
     "data": {
      "application/vnd.jupyter.widget-view+json": {
       "model_id": "29e97d48ff5e4d8fbfdbe3c73dd073dc",
       "version_major": 2,
       "version_minor": 0
      },
      "text/plain": [
       "Channel progress in FOV 23:   0%|          | 0/3 [00:00<?, ?it/s]"
      ]
     },
     "metadata": {},
     "output_type": "display_data"
    },
    {
     "data": {
      "application/vnd.jupyter.widget-view+json": {
       "model_id": "8a5e7cf8e8134513a051c3b4121a26b8",
       "version_major": 2,
       "version_minor": 0
      },
      "text/plain": [
       "Frame progress in channel Green:   0%|          | 0/20 [00:00<?, ?it/s]"
      ]
     },
     "metadata": {},
     "output_type": "display_data"
    },
    {
     "data": {
      "application/vnd.jupyter.widget-view+json": {
       "model_id": "bf2bf659cc5443e79f1e33a7e1782859",
       "version_major": 2,
       "version_minor": 0
      },
      "text/plain": [
       "Frame progress in channel PC:   0%|          | 0/20 [00:00<?, ?it/s]"
      ]
     },
     "metadata": {},
     "output_type": "display_data"
    },
    {
     "data": {
      "application/vnd.jupyter.widget-view+json": {
       "model_id": "80254cf401d7445483150f68302e85cf",
       "version_major": 2,
       "version_minor": 0
      },
      "text/plain": [
       "Frame progress in channel Red:   0%|          | 0/20 [00:00<?, ?it/s]"
      ]
     },
     "metadata": {},
     "output_type": "display_data"
    },
    {
     "data": {
      "application/vnd.jupyter.widget-view+json": {
       "model_id": "b39746f1ae0f4a45a96d191c0c3c765f",
       "version_major": 2,
       "version_minor": 0
      },
      "text/plain": [
       "Channel progress in FOV 24:   0%|          | 0/3 [00:00<?, ?it/s]"
      ]
     },
     "metadata": {},
     "output_type": "display_data"
    },
    {
     "data": {
      "application/vnd.jupyter.widget-view+json": {
       "model_id": "7586fd09f6674ca59f336f00fe61fac6",
       "version_major": 2,
       "version_minor": 0
      },
      "text/plain": [
       "Frame progress in channel Green:   0%|          | 0/20 [00:00<?, ?it/s]"
      ]
     },
     "metadata": {},
     "output_type": "display_data"
    },
    {
     "data": {
      "application/vnd.jupyter.widget-view+json": {
       "model_id": "fbd6ecdc46324d628b226feb703dad4c",
       "version_major": 2,
       "version_minor": 0
      },
      "text/plain": [
       "Frame progress in channel PC:   0%|          | 0/20 [00:00<?, ?it/s]"
      ]
     },
     "metadata": {},
     "output_type": "display_data"
    },
    {
     "data": {
      "application/vnd.jupyter.widget-view+json": {
       "model_id": "1243d1c3755d44b49d9f0f3ae15ba3cc",
       "version_major": 2,
       "version_minor": 0
      },
      "text/plain": [
       "Frame progress in channel Red:   0%|          | 0/20 [00:00<?, ?it/s]"
      ]
     },
     "metadata": {},
     "output_type": "display_data"
    },
    {
     "data": {
      "application/vnd.jupyter.widget-view+json": {
       "model_id": "21bc180ece7d44ad86197f517ed2e971",
       "version_major": 2,
       "version_minor": 0
      },
      "text/plain": [
       "Channel progress in FOV 25:   0%|          | 0/3 [00:00<?, ?it/s]"
      ]
     },
     "metadata": {},
     "output_type": "display_data"
    },
    {
     "data": {
      "application/vnd.jupyter.widget-view+json": {
       "model_id": "b0cd406f96f846d9bf4bd73af69ae954",
       "version_major": 2,
       "version_minor": 0
      },
      "text/plain": [
       "Frame progress in channel Green:   0%|          | 0/20 [00:00<?, ?it/s]"
      ]
     },
     "metadata": {},
     "output_type": "display_data"
    },
    {
     "data": {
      "application/vnd.jupyter.widget-view+json": {
       "model_id": "396d4162d3f84d268e388e1276d9b9c5",
       "version_major": 2,
       "version_minor": 0
      },
      "text/plain": [
       "Frame progress in channel PC:   0%|          | 0/20 [00:00<?, ?it/s]"
      ]
     },
     "metadata": {},
     "output_type": "display_data"
    },
    {
     "data": {
      "application/vnd.jupyter.widget-view+json": {
       "model_id": "61aa290308344e149a78104a4c8879f7",
       "version_major": 2,
       "version_minor": 0
      },
      "text/plain": [
       "Frame progress in channel Red:   0%|          | 0/20 [00:00<?, ?it/s]"
      ]
     },
     "metadata": {},
     "output_type": "display_data"
    },
    {
     "data": {
      "application/vnd.jupyter.widget-view+json": {
       "model_id": "3436cb15eb274db4bc0dffd110f96445",
       "version_major": 2,
       "version_minor": 0
      },
      "text/plain": [
       "Channel progress in FOV 26:   0%|          | 0/3 [00:00<?, ?it/s]"
      ]
     },
     "metadata": {},
     "output_type": "display_data"
    },
    {
     "data": {
      "application/vnd.jupyter.widget-view+json": {
       "model_id": "ea508949841a43349ff48080123b16c3",
       "version_major": 2,
       "version_minor": 0
      },
      "text/plain": [
       "Frame progress in channel Green:   0%|          | 0/20 [00:00<?, ?it/s]"
      ]
     },
     "metadata": {},
     "output_type": "display_data"
    },
    {
     "data": {
      "application/vnd.jupyter.widget-view+json": {
       "model_id": "0738d81ae2ee47e8bb96ae21950b0230",
       "version_major": 2,
       "version_minor": 0
      },
      "text/plain": [
       "Frame progress in channel PC:   0%|          | 0/20 [00:00<?, ?it/s]"
      ]
     },
     "metadata": {},
     "output_type": "display_data"
    },
    {
     "data": {
      "application/vnd.jupyter.widget-view+json": {
       "model_id": "cbf7bf11d6d04598a9a6bd986512316d",
       "version_major": 2,
       "version_minor": 0
      },
      "text/plain": [
       "Frame progress in channel Red:   0%|          | 0/20 [00:00<?, ?it/s]"
      ]
     },
     "metadata": {},
     "output_type": "display_data"
    },
    {
     "data": {
      "application/vnd.jupyter.widget-view+json": {
       "model_id": "07ca1e7f42e4427fb07412a90e1bb3c6",
       "version_major": 2,
       "version_minor": 0
      },
      "text/plain": [
       "Channel progress in FOV 27:   0%|          | 0/3 [00:00<?, ?it/s]"
      ]
     },
     "metadata": {},
     "output_type": "display_data"
    },
    {
     "data": {
      "application/vnd.jupyter.widget-view+json": {
       "model_id": "fc33cf4393ea485699ca7e765fa79fce",
       "version_major": 2,
       "version_minor": 0
      },
      "text/plain": [
       "Frame progress in channel Green:   0%|          | 0/20 [00:00<?, ?it/s]"
      ]
     },
     "metadata": {},
     "output_type": "display_data"
    },
    {
     "data": {
      "application/vnd.jupyter.widget-view+json": {
       "model_id": "e1a7cb8dd564427dbe7994f016deab96",
       "version_major": 2,
       "version_minor": 0
      },
      "text/plain": [
       "Frame progress in channel PC:   0%|          | 0/20 [00:00<?, ?it/s]"
      ]
     },
     "metadata": {},
     "output_type": "display_data"
    },
    {
     "data": {
      "application/vnd.jupyter.widget-view+json": {
       "model_id": "66757bf5d03b4936accd97354ae36ebc",
       "version_major": 2,
       "version_minor": 0
      },
      "text/plain": [
       "Frame progress in channel Red:   0%|          | 0/20 [00:00<?, ?it/s]"
      ]
     },
     "metadata": {},
     "output_type": "display_data"
    },
    {
     "data": {
      "application/vnd.jupyter.widget-view+json": {
       "model_id": "43b5cfacd3514765981555162d8eaa1e",
       "version_major": 2,
       "version_minor": 0
      },
      "text/plain": [
       "Channel progress in FOV 28:   0%|          | 0/3 [00:00<?, ?it/s]"
      ]
     },
     "metadata": {},
     "output_type": "display_data"
    },
    {
     "data": {
      "application/vnd.jupyter.widget-view+json": {
       "model_id": "b55662f427ae42968e2ffcdb8f055184",
       "version_major": 2,
       "version_minor": 0
      },
      "text/plain": [
       "Frame progress in channel Green:   0%|          | 0/20 [00:00<?, ?it/s]"
      ]
     },
     "metadata": {},
     "output_type": "display_data"
    },
    {
     "data": {
      "application/vnd.jupyter.widget-view+json": {
       "model_id": "6b49af8884894fa4b677ae610da21654",
       "version_major": 2,
       "version_minor": 0
      },
      "text/plain": [
       "Frame progress in channel PC:   0%|          | 0/20 [00:00<?, ?it/s]"
      ]
     },
     "metadata": {},
     "output_type": "display_data"
    },
    {
     "data": {
      "application/vnd.jupyter.widget-view+json": {
       "model_id": "2075950e165444e1aeb4c7731277ef81",
       "version_major": 2,
       "version_minor": 0
      },
      "text/plain": [
       "Frame progress in channel Red:   0%|          | 0/20 [00:00<?, ?it/s]"
      ]
     },
     "metadata": {},
     "output_type": "display_data"
    },
    {
     "data": {
      "application/vnd.jupyter.widget-view+json": {
       "model_id": "f3cf63bc4fee4a12971a255843c8c75b",
       "version_major": 2,
       "version_minor": 0
      },
      "text/plain": [
       "Channel progress in FOV 29:   0%|          | 0/3 [00:00<?, ?it/s]"
      ]
     },
     "metadata": {},
     "output_type": "display_data"
    },
    {
     "data": {
      "application/vnd.jupyter.widget-view+json": {
       "model_id": "86f8b356ac474c7999cc30ff03937568",
       "version_major": 2,
       "version_minor": 0
      },
      "text/plain": [
       "Frame progress in channel Green:   0%|          | 0/20 [00:00<?, ?it/s]"
      ]
     },
     "metadata": {},
     "output_type": "display_data"
    },
    {
     "data": {
      "application/vnd.jupyter.widget-view+json": {
       "model_id": "9bbfa2f3ab7c496aafb1f0972c33ec58",
       "version_major": 2,
       "version_minor": 0
      },
      "text/plain": [
       "Frame progress in channel PC:   0%|          | 0/20 [00:00<?, ?it/s]"
      ]
     },
     "metadata": {},
     "output_type": "display_data"
    },
    {
     "data": {
      "application/vnd.jupyter.widget-view+json": {
       "model_id": "5b328dff13204b619a014fd9519eae54",
       "version_major": 2,
       "version_minor": 0
      },
      "text/plain": [
       "Frame progress in channel Red:   0%|          | 0/20 [00:00<?, ?it/s]"
      ]
     },
     "metadata": {},
     "output_type": "display_data"
    },
    {
     "data": {
      "application/vnd.jupyter.widget-view+json": {
       "model_id": "5b64b98b5b6b4330ada4b97693d1b4ce",
       "version_major": 2,
       "version_minor": 0
      },
      "text/plain": [
       "Channel progress in FOV 30:   0%|          | 0/3 [00:00<?, ?it/s]"
      ]
     },
     "metadata": {},
     "output_type": "display_data"
    },
    {
     "data": {
      "application/vnd.jupyter.widget-view+json": {
       "model_id": "d5b9c0098f8b4e169e0422a991f3cc78",
       "version_major": 2,
       "version_minor": 0
      },
      "text/plain": [
       "Frame progress in channel Green:   0%|          | 0/20 [00:00<?, ?it/s]"
      ]
     },
     "metadata": {},
     "output_type": "display_data"
    },
    {
     "data": {
      "application/vnd.jupyter.widget-view+json": {
       "model_id": "079256c5fb6446f6a2e86934c51c5eb5",
       "version_major": 2,
       "version_minor": 0
      },
      "text/plain": [
       "Frame progress in channel PC:   0%|          | 0/20 [00:00<?, ?it/s]"
      ]
     },
     "metadata": {},
     "output_type": "display_data"
    },
    {
     "data": {
      "application/vnd.jupyter.widget-view+json": {
       "model_id": "0d7a5973ca394d908e62b39c01131e75",
       "version_major": 2,
       "version_minor": 0
      },
      "text/plain": [
       "Frame progress in channel Red:   0%|          | 0/20 [00:00<?, ?it/s]"
      ]
     },
     "metadata": {},
     "output_type": "display_data"
    },
    {
     "data": {
      "application/vnd.jupyter.widget-view+json": {
       "model_id": "7816db8f40d94d0099b5739ae8d498fc",
       "version_major": 2,
       "version_minor": 0
      },
      "text/plain": [
       "Channel progress in FOV 31:   0%|          | 0/3 [00:00<?, ?it/s]"
      ]
     },
     "metadata": {},
     "output_type": "display_data"
    },
    {
     "data": {
      "application/vnd.jupyter.widget-view+json": {
       "model_id": "46792e7cd2d341a7847f11bb9312c3ef",
       "version_major": 2,
       "version_minor": 0
      },
      "text/plain": [
       "Frame progress in channel Green:   0%|          | 0/20 [00:00<?, ?it/s]"
      ]
     },
     "metadata": {},
     "output_type": "display_data"
    },
    {
     "data": {
      "application/vnd.jupyter.widget-view+json": {
       "model_id": "18fc16240a8d40d98e8f6fe139d78827",
       "version_major": 2,
       "version_minor": 0
      },
      "text/plain": [
       "Frame progress in channel PC:   0%|          | 0/20 [00:00<?, ?it/s]"
      ]
     },
     "metadata": {},
     "output_type": "display_data"
    },
    {
     "data": {
      "application/vnd.jupyter.widget-view+json": {
       "model_id": "9b55e99e6a6f454ea771ab42ea32c108",
       "version_major": 2,
       "version_minor": 0
      },
      "text/plain": [
       "Frame progress in channel Red:   0%|          | 0/20 [00:00<?, ?it/s]"
      ]
     },
     "metadata": {},
     "output_type": "display_data"
    },
    {
     "data": {
      "application/vnd.jupyter.widget-view+json": {
       "model_id": "6180cdf493004f84980015c789a8fb24",
       "version_major": 2,
       "version_minor": 0
      },
      "text/plain": [
       "Channel progress in FOV 32:   0%|          | 0/3 [00:00<?, ?it/s]"
      ]
     },
     "metadata": {},
     "output_type": "display_data"
    },
    {
     "data": {
      "application/vnd.jupyter.widget-view+json": {
       "model_id": "c35c57ce823a443d84c7695d272e3ee9",
       "version_major": 2,
       "version_minor": 0
      },
      "text/plain": [
       "Frame progress in channel Green:   0%|          | 0/20 [00:00<?, ?it/s]"
      ]
     },
     "metadata": {},
     "output_type": "display_data"
    },
    {
     "data": {
      "application/vnd.jupyter.widget-view+json": {
       "model_id": "bf18dc9a9d4948a492cd778eda40f784",
       "version_major": 2,
       "version_minor": 0
      },
      "text/plain": [
       "Frame progress in channel PC:   0%|          | 0/20 [00:00<?, ?it/s]"
      ]
     },
     "metadata": {},
     "output_type": "display_data"
    },
    {
     "data": {
      "application/vnd.jupyter.widget-view+json": {
       "model_id": "93706acbb49c4dd6b5282ca675f35347",
       "version_major": 2,
       "version_minor": 0
      },
      "text/plain": [
       "Frame progress in channel Red:   0%|          | 0/20 [00:00<?, ?it/s]"
      ]
     },
     "metadata": {},
     "output_type": "display_data"
    },
    {
     "data": {
      "application/vnd.jupyter.widget-view+json": {
       "model_id": "a3a3e015137f4fdabdaef285ea50465d",
       "version_major": 2,
       "version_minor": 0
      },
      "text/plain": [
       "Channel progress in FOV 33:   0%|          | 0/3 [00:00<?, ?it/s]"
      ]
     },
     "metadata": {},
     "output_type": "display_data"
    },
    {
     "data": {
      "application/vnd.jupyter.widget-view+json": {
       "model_id": "6adefa1137474b53b88241d5e9b053b0",
       "version_major": 2,
       "version_minor": 0
      },
      "text/plain": [
       "Frame progress in channel Green:   0%|          | 0/20 [00:00<?, ?it/s]"
      ]
     },
     "metadata": {},
     "output_type": "display_data"
    },
    {
     "data": {
      "application/vnd.jupyter.widget-view+json": {
       "model_id": "5ca307dbeaeb42d9976e73de61a86787",
       "version_major": 2,
       "version_minor": 0
      },
      "text/plain": [
       "Frame progress in channel PC:   0%|          | 0/20 [00:00<?, ?it/s]"
      ]
     },
     "metadata": {},
     "output_type": "display_data"
    },
    {
     "data": {
      "application/vnd.jupyter.widget-view+json": {
       "model_id": "756eb7f05fb94f11a937fe5144d00a3e",
       "version_major": 2,
       "version_minor": 0
      },
      "text/plain": [
       "Frame progress in channel Red:   0%|          | 0/20 [00:00<?, ?it/s]"
      ]
     },
     "metadata": {},
     "output_type": "display_data"
    },
    {
     "data": {
      "application/vnd.jupyter.widget-view+json": {
       "model_id": "599effb3de824af8b81863a346baccf8",
       "version_major": 2,
       "version_minor": 0
      },
      "text/plain": [
       "Channel progress in FOV 34:   0%|          | 0/3 [00:00<?, ?it/s]"
      ]
     },
     "metadata": {},
     "output_type": "display_data"
    },
    {
     "data": {
      "application/vnd.jupyter.widget-view+json": {
       "model_id": "1a77cd6101084f7a9a803cbdb16603ae",
       "version_major": 2,
       "version_minor": 0
      },
      "text/plain": [
       "Frame progress in channel Green:   0%|          | 0/20 [00:00<?, ?it/s]"
      ]
     },
     "metadata": {},
     "output_type": "display_data"
    },
    {
     "data": {
      "application/vnd.jupyter.widget-view+json": {
       "model_id": "b34b877227f6450b8f783495f92ae5d0",
       "version_major": 2,
       "version_minor": 0
      },
      "text/plain": [
       "Frame progress in channel PC:   0%|          | 0/20 [00:00<?, ?it/s]"
      ]
     },
     "metadata": {},
     "output_type": "display_data"
    },
    {
     "data": {
      "application/vnd.jupyter.widget-view+json": {
       "model_id": "a4684e2a668a406b917fc45dcd390408",
       "version_major": 2,
       "version_minor": 0
      },
      "text/plain": [
       "Frame progress in channel Red:   0%|          | 0/20 [00:00<?, ?it/s]"
      ]
     },
     "metadata": {},
     "output_type": "display_data"
    },
    {
     "data": {
      "application/vnd.jupyter.widget-view+json": {
       "model_id": "1edab342f6f84c51a3ec9afc32d44cec",
       "version_major": 2,
       "version_minor": 0
      },
      "text/plain": [
       "Channel progress in FOV 35:   0%|          | 0/3 [00:00<?, ?it/s]"
      ]
     },
     "metadata": {},
     "output_type": "display_data"
    },
    {
     "data": {
      "application/vnd.jupyter.widget-view+json": {
       "model_id": "83ef307281134003b306f6900363e478",
       "version_major": 2,
       "version_minor": 0
      },
      "text/plain": [
       "Frame progress in channel Green:   0%|          | 0/20 [00:00<?, ?it/s]"
      ]
     },
     "metadata": {},
     "output_type": "display_data"
    },
    {
     "data": {
      "application/vnd.jupyter.widget-view+json": {
       "model_id": "0f5e74aa56ef4dcab9c6cc53f78782a9",
       "version_major": 2,
       "version_minor": 0
      },
      "text/plain": [
       "Frame progress in channel PC:   0%|          | 0/20 [00:00<?, ?it/s]"
      ]
     },
     "metadata": {},
     "output_type": "display_data"
    },
    {
     "data": {
      "application/vnd.jupyter.widget-view+json": {
       "model_id": "fefca80aa4434fda8d85d7ad2a293e78",
       "version_major": 2,
       "version_minor": 0
      },
      "text/plain": [
       "Frame progress in channel Red:   0%|          | 0/20 [00:00<?, ?it/s]"
      ]
     },
     "metadata": {},
     "output_type": "display_data"
    },
    {
     "data": {
      "application/vnd.jupyter.widget-view+json": {
       "model_id": "bcdd880eed32468993cf576c4b44ed18",
       "version_major": 2,
       "version_minor": 0
      },
      "text/plain": [
       "Channel progress in FOV 36:   0%|          | 0/3 [00:00<?, ?it/s]"
      ]
     },
     "metadata": {},
     "output_type": "display_data"
    },
    {
     "data": {
      "application/vnd.jupyter.widget-view+json": {
       "model_id": "068f70309e764262985ec3d8bad8edce",
       "version_major": 2,
       "version_minor": 0
      },
      "text/plain": [
       "Frame progress in channel Green:   0%|          | 0/20 [00:00<?, ?it/s]"
      ]
     },
     "metadata": {},
     "output_type": "display_data"
    },
    {
     "data": {
      "application/vnd.jupyter.widget-view+json": {
       "model_id": "78621feca77642f1b2f4784c19d09050",
       "version_major": 2,
       "version_minor": 0
      },
      "text/plain": [
       "Frame progress in channel PC:   0%|          | 0/20 [00:00<?, ?it/s]"
      ]
     },
     "metadata": {},
     "output_type": "display_data"
    },
    {
     "data": {
      "application/vnd.jupyter.widget-view+json": {
       "model_id": "8e0c0292123a4942bd712767b4c3f797",
       "version_major": 2,
       "version_minor": 0
      },
      "text/plain": [
       "Frame progress in channel Red:   0%|          | 0/20 [00:00<?, ?it/s]"
      ]
     },
     "metadata": {},
     "output_type": "display_data"
    },
    {
     "data": {
      "application/vnd.jupyter.widget-view+json": {
       "model_id": "4313870af965420088f8576bdb3e516b",
       "version_major": 2,
       "version_minor": 0
      },
      "text/plain": [
       "Channel progress in FOV 37:   0%|          | 0/3 [00:00<?, ?it/s]"
      ]
     },
     "metadata": {},
     "output_type": "display_data"
    },
    {
     "data": {
      "application/vnd.jupyter.widget-view+json": {
       "model_id": "b7b342e297c74b10b325c0fad73b5d4b",
       "version_major": 2,
       "version_minor": 0
      },
      "text/plain": [
       "Frame progress in channel Green:   0%|          | 0/20 [00:00<?, ?it/s]"
      ]
     },
     "metadata": {},
     "output_type": "display_data"
    },
    {
     "data": {
      "application/vnd.jupyter.widget-view+json": {
       "model_id": "4a91cb094d854193bfb101f1300f7f82",
       "version_major": 2,
       "version_minor": 0
      },
      "text/plain": [
       "Frame progress in channel PC:   0%|          | 0/20 [00:00<?, ?it/s]"
      ]
     },
     "metadata": {},
     "output_type": "display_data"
    },
    {
     "data": {
      "application/vnd.jupyter.widget-view+json": {
       "model_id": "1d0cc9b74ed8462b9fe4f2a5ea40a76d",
       "version_major": 2,
       "version_minor": 0
      },
      "text/plain": [
       "Frame progress in channel Red:   0%|          | 0/20 [00:00<?, ?it/s]"
      ]
     },
     "metadata": {},
     "output_type": "display_data"
    },
    {
     "data": {
      "application/vnd.jupyter.widget-view+json": {
       "model_id": "90c8d9f1153c4e4c815835b67255386b",
       "version_major": 2,
       "version_minor": 0
      },
      "text/plain": [
       "Channel progress in FOV 38:   0%|          | 0/3 [00:00<?, ?it/s]"
      ]
     },
     "metadata": {},
     "output_type": "display_data"
    },
    {
     "data": {
      "application/vnd.jupyter.widget-view+json": {
       "model_id": "7f4f77b7ee564b25adbed8bb517e87e0",
       "version_major": 2,
       "version_minor": 0
      },
      "text/plain": [
       "Frame progress in channel Green:   0%|          | 0/20 [00:00<?, ?it/s]"
      ]
     },
     "metadata": {},
     "output_type": "display_data"
    },
    {
     "data": {
      "application/vnd.jupyter.widget-view+json": {
       "model_id": "3d13a7cf43bc4ed3a40a6dc80fa6e9a8",
       "version_major": 2,
       "version_minor": 0
      },
      "text/plain": [
       "Frame progress in channel PC:   0%|          | 0/20 [00:00<?, ?it/s]"
      ]
     },
     "metadata": {},
     "output_type": "display_data"
    },
    {
     "data": {
      "application/vnd.jupyter.widget-view+json": {
       "model_id": "f32cad8818fd4d07824ced23500cb661",
       "version_major": 2,
       "version_minor": 0
      },
      "text/plain": [
       "Frame progress in channel Red:   0%|          | 0/20 [00:00<?, ?it/s]"
      ]
     },
     "metadata": {},
     "output_type": "display_data"
    }
   ],
   "source": [
    "with ND2Reader_SDK(directory) as frames:\n",
    "    for FOV in tqdm(FOVs_list, desc = \"Overall (FOV) progress\"):\n",
    "        for channel in tqdm(CHANNELS_list, desc = \"Channel progress in FOV {}\".format(FOV), leave = False, position = 1):\n",
    "            frames.iter_axes = 't'\n",
    "            try:\n",
    "                frames.default_coords['c'] = channel\n",
    "            except:\n",
    "                pass\n",
    "            frames.default_coords['m'] = FOV\n",
    "            Parallel(prefer=\"threads\", n_jobs = joblib_workers)(delayed(zarr_saver)(frames[t], zarr_file, FOV, t, channel) for t in tqdm(range(num_t), desc = \"Frame progress in channel {}\".format(IMG_CHANNELS[channel]), leave = False, position = 2) )\n"
   ]
  },
  {
   "cell_type": "code",
   "execution_count": 44,
   "metadata": {},
   "outputs": [
    {
     "data": {
      "text/plain": [
       "range(0, 20)"
      ]
     },
     "execution_count": 44,
     "metadata": {},
     "output_type": "execute_result"
    }
   ],
   "source": [
    "range(num_t)"
   ]
  },
  {
   "cell_type": "code",
   "execution_count": 45,
   "metadata": {},
   "outputs": [
    {
     "ename": "OSError",
     "evalue": "File is closed, unable to read data",
     "output_type": "error",
     "traceback": [
      "\u001b[0;31m---------------------------------------------------------------------------\u001b[0m",
      "\u001b[0;31mOSError\u001b[0m                                   Traceback (most recent call last)",
      "Cell \u001b[0;32mIn [45], line 1\u001b[0m\n\u001b[0;32m----> 1\u001b[0m \u001b[43mframes\u001b[49m\u001b[43m[\u001b[49m\u001b[38;5;241;43m0\u001b[39;49m\u001b[43m]\u001b[49m\n",
      "File \u001b[0;32m~/miniconda3/envs/nd2_extractor/lib/python3.10/site-packages/slicerator/__init__.py:187\u001b[0m, in \u001b[0;36mSlicerator.from_class.<locals>.SliceratorSubclass.__getitem__\u001b[0;34m(self, i)\u001b[0m\n\u001b[1;32m    185\u001b[0m indices, new_length \u001b[39m=\u001b[39m key_to_indices(i, \u001b[39mlen\u001b[39m(\u001b[39mself\u001b[39m))\n\u001b[1;32m    186\u001b[0m \u001b[39mif\u001b[39;00m new_length \u001b[39mis\u001b[39;00m \u001b[39mNone\u001b[39;00m:\n\u001b[0;32m--> 187\u001b[0m     \u001b[39mreturn\u001b[39;00m \u001b[39mself\u001b[39;49m\u001b[39m.\u001b[39;49m_get(indices)\n\u001b[1;32m    188\u001b[0m \u001b[39melse\u001b[39;00m:\n\u001b[1;32m    189\u001b[0m     \u001b[39mreturn\u001b[39;00m \u001b[39mcls\u001b[39m(\u001b[39mself\u001b[39m, indices, new_length, propagate_attrs)\n",
      "File \u001b[0;32m~/miniconda3/envs/nd2_extractor/lib/python3.10/site-packages/pims/base_frames.py:100\u001b[0m, in \u001b[0;36mFramesSequence.__getitem__\u001b[0;34m(self, key)\u001b[0m\n\u001b[1;32m     97\u001b[0m \u001b[39mdef\u001b[39;00m \u001b[39m__getitem__\u001b[39m(\u001b[39mself\u001b[39m, key):\n\u001b[1;32m     98\u001b[0m     \u001b[39m\"\"\"__getitem__ is handled by Slicerator. In all pims readers, the data\u001b[39;00m\n\u001b[1;32m     99\u001b[0m \u001b[39m    returning function is get_frame.\"\"\"\u001b[39;00m\n\u001b[0;32m--> 100\u001b[0m     \u001b[39mreturn\u001b[39;00m \u001b[39mself\u001b[39;49m\u001b[39m.\u001b[39;49mget_frame(key)\n",
      "File \u001b[0;32m~/miniconda3/envs/nd2_extractor/lib/python3.10/site-packages/pims/base_frames.py:598\u001b[0m, in \u001b[0;36mFramesSequenceND.get_frame\u001b[0;34m(self, i)\u001b[0m\n\u001b[1;32m    595\u001b[0m iter_coords \u001b[39m=\u001b[39m (i \u001b[39m/\u001b[39m\u001b[39m/\u001b[39m iter_cumsizes) \u001b[39m%\u001b[39m iter_sizes\n\u001b[1;32m    596\u001b[0m coords\u001b[39m.\u001b[39mupdate(\u001b[39m*\u001b[39m\u001b[39m*\u001b[39m{k: v \u001b[39mfor\u001b[39;00m k, v \u001b[39min\u001b[39;00m \u001b[39mzip\u001b[39m(\u001b[39mself\u001b[39m\u001b[39m.\u001b[39miter_axes, iter_coords)})\n\u001b[0;32m--> 598\u001b[0m result \u001b[39m=\u001b[39m \u001b[39mself\u001b[39;49m\u001b[39m.\u001b[39;49m_get_frame_wrapped(\u001b[39m*\u001b[39;49m\u001b[39m*\u001b[39;49mcoords)\n\u001b[1;32m    599\u001b[0m \u001b[39mif\u001b[39;00m \u001b[39mhasattr\u001b[39m(result, \u001b[39m'\u001b[39m\u001b[39mmetadata\u001b[39m\u001b[39m'\u001b[39m):\n\u001b[1;32m    600\u001b[0m     metadata \u001b[39m=\u001b[39m result\u001b[39m.\u001b[39mmetadata\n",
      "File \u001b[0;32m~/miniconda3/envs/nd2_extractor/lib/python3.10/site-packages/pims_nd2/nd2reader.py:184\u001b[0m, in \u001b[0;36mND2_Reader.get_frame_2D\u001b[0;34m(self, **coords)\u001b[0m\n\u001b[1;32m    182\u001b[0m \u001b[39mdef\u001b[39;00m \u001b[39mget_frame_2D\u001b[39m(\u001b[39mself\u001b[39m, \u001b[39m*\u001b[39m\u001b[39m*\u001b[39mcoords):\n\u001b[1;32m    183\u001b[0m     \u001b[39mif\u001b[39;00m \u001b[39mself\u001b[39m\u001b[39m.\u001b[39m_handle \u001b[39mis\u001b[39;00m \u001b[39mNone\u001b[39;00m:\n\u001b[0;32m--> 184\u001b[0m         \u001b[39mraise\u001b[39;00m \u001b[39mIOError\u001b[39;00m(\u001b[39m'\u001b[39m\u001b[39mFile is closed, unable to read data\u001b[39m\u001b[39m'\u001b[39m)\n\u001b[1;32m    186\u001b[0m     _coords \u001b[39m=\u001b[39m {\u001b[39m'\u001b[39m\u001b[39mt\u001b[39m\u001b[39m'\u001b[39m: \u001b[39m0\u001b[39m, \u001b[39m'\u001b[39m\u001b[39mc\u001b[39m\u001b[39m'\u001b[39m: \u001b[39m0\u001b[39m, \u001b[39m'\u001b[39m\u001b[39mz\u001b[39m\u001b[39m'\u001b[39m: \u001b[39m0\u001b[39m, \u001b[39m'\u001b[39m\u001b[39mo\u001b[39m\u001b[39m'\u001b[39m: \u001b[39m0\u001b[39m, \u001b[39m'\u001b[39m\u001b[39mm\u001b[39m\u001b[39m'\u001b[39m: \u001b[39m0\u001b[39m}\n\u001b[1;32m    187\u001b[0m     _coords\u001b[39m.\u001b[39mupdate(coords)\n",
      "\u001b[0;31mOSError\u001b[0m: File is closed, unable to read data"
     ]
    }
   ],
   "source": [
    "frames[0]"
   ]
  },
  {
   "cell_type": "code",
   "execution_count": 43,
   "metadata": {},
   "outputs": [
    {
     "ename": "NameError",
     "evalue": "name 'i' is not defined",
     "output_type": "error",
     "traceback": [
      "\u001b[0;31m---------------------------------------------------------------------------\u001b[0m",
      "\u001b[0;31mNameError\u001b[0m                                 Traceback (most recent call last)",
      "Cell \u001b[0;32mIn [43], line 1\u001b[0m\n\u001b[0;32m----> 1\u001b[0m \u001b[43mi\u001b[49m\n",
      "\u001b[0;31mNameError\u001b[0m: name 'i' is not defined"
     ]
    }
   ],
   "source": [
    "i"
   ]
  },
  {
   "cell_type": "code",
   "execution_count": null,
   "metadata": {},
   "outputs": [],
   "source": []
  }
 ],
 "metadata": {
  "kernelspec": {
   "display_name": "Python 3.10.4 ('nd2_extractor')",
   "language": "python",
   "name": "python3"
  },
  "language_info": {
   "codemirror_mode": {
    "name": "ipython",
    "version": 3
   },
   "file_extension": ".py",
   "mimetype": "text/x-python",
   "name": "python",
   "nbconvert_exporter": "python",
   "pygments_lexer": "ipython3",
   "version": "3.10.4"
  },
  "vscode": {
   "interpreter": {
    "hash": "6916166e9d10404f2a0950fdae2a2859f6d3df615e88d7247a95e124e905d57f"
   }
  }
 },
 "nbformat": 4,
 "nbformat_minor": 4
}
