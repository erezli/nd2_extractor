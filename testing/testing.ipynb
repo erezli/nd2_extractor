{
 "cells": [
  {
   "cell_type": "code",
   "execution_count": 1,
   "metadata": {
    "scrolled": true
   },
   "outputs": [],
   "source": [
    "from pims import ND2Reader_SDK"
   ]
  },
  {
   "cell_type": "code",
   "execution_count": 2,
   "metadata": {},
   "outputs": [
    {
     "name": "stderr",
     "output_type": "stream",
     "text": [
      "/home/georgeos/miniconda3/envs/nd2_extractor/lib/python3.10/site-packages/pims/base_frames.py:478: UserWarning: Please call FramesSequenceND.__init__() at the start of thethe reader initialization.\n",
      "  warn(\"Please call FramesSequenceND.__init__() at the start of the\"\n"
     ]
    }
   ],
   "source": [
    "directory = \"/home/georgeos/Dropbox (Cambridge University)/Nikon Nd2 Backup_Bakshi-Lab/gh464/MI13TnaAGFP_exit_dyn/ND2/MI13TnaAGFP_exit_dyn.nd2\"\n",
    "frames =  ND2Reader_SDK(directory)"
   ]
  },
  {
   "cell_type": "code",
   "execution_count": 3,
   "metadata": {},
   "outputs": [
    {
     "data": {
      "text/plain": [
       "dict"
      ]
     },
     "execution_count": 3,
     "metadata": {},
     "output_type": "execute_result"
    }
   ],
   "source": [
    "type(frames.metadata)"
   ]
  },
  {
   "cell_type": "code",
   "execution_count": 14,
   "metadata": {},
   "outputs": [
    {
     "data": {
      "text/plain": [
       "39"
      ]
     },
     "execution_count": 14,
     "metadata": {},
     "output_type": "execute_result"
    }
   ],
   "source": [
    "frames."
   ]
  },
  {
   "cell_type": "code",
   "execution_count": 5,
   "metadata": {},
   "outputs": [],
   "source": [
    "import yaml"
   ]
  },
  {
   "cell_type": "code",
   "execution_count": 7,
   "metadata": {},
   "outputs": [],
   "source": [
    "with open('metadata.yml', 'w') as outfile:\n",
    "    yaml.dump(frames.metadata, outfile, default_flow_style=False)"
   ]
  },
  {
   "cell_type": "code",
   "execution_count": 8,
   "metadata": {},
   "outputs": [
    {
     "data": {
      "text/plain": [
       "{'width': 2304,\n",
       " 'width_bytes': 13824,\n",
       " 'height': 2304,\n",
       " 'components': 3,\n",
       " 'bitsize_memory': 16,\n",
       " 'bitsize_significant': 16,\n",
       " 'sequence_count': 11271,\n",
       " 'tile_width': 2304,\n",
       " 'tile_height': 2304,\n",
       " 'compression': None,\n",
       " 'compression_quality': 4294967197,\n",
       " 'plane_count': 3,\n",
       " 'angle': -3.1057421608167726,\n",
       " 'calibration_um': 0.065,\n",
       " 'time_start_jdn': 2459838.2996869446,\n",
       " 'time_start': datetime.datetime(2022, 9, 15, 20, 11, 32, 952012),\n",
       " 'time_start_utc': datetime.datetime(2022, 9, 15, 19, 11, 32, 952012),\n",
       " 'objective': 'Plan Apo λ 100x Oil Ph3 DM',\n",
       " 'magnification': -1.0,\n",
       " 'NA': 1.45,\n",
       " 'refractive_index1': 1.515,\n",
       " 'refractive_index2': 1.515,\n",
       " 'pinhole': 0.0,\n",
       " 'zoom': 1.0,\n",
       " 'projective_mag': -1.0,\n",
       " 'image_type': 'normal',\n",
       " 'z_home': None,\n",
       " 'frame_rate': 0.00555577647149626,\n",
       " 'plane_0': {'components': 1,\n",
       "  'rgb_value': (0.07058823529411765, 1.0, 0.0),\n",
       "  'name': 'Green',\n",
       "  'oc': 'Green',\n",
       "  'emission_nm': 515.0},\n",
       " 'plane_1': {'components': 1,\n",
       "  'rgb_value': (1.0, 1.0, 1.0),\n",
       "  'name': 'PC',\n",
       "  'oc': '',\n",
       "  'emission_nm': 705.0},\n",
       " 'plane_2': {'components': 1,\n",
       "  'rgb_value': (1.0, 0.0, 0.0),\n",
       "  'name': 'Red',\n",
       "  'oc': '',\n",
       "  'emission_nm': 595.0}}"
      ]
     },
     "execution_count": 8,
     "metadata": {},
     "output_type": "execute_result"
    }
   ],
   "source": [
    "frames.metadata"
   ]
  },
  {
   "cell_type": "code",
   "execution_count": null,
   "metadata": {},
   "outputs": [],
   "source": []
  }
 ],
 "metadata": {
  "kernelspec": {
   "display_name": "Python 3.10.4 ('nd2_extractor')",
   "language": "python",
   "name": "python3"
  },
  "language_info": {
   "codemirror_mode": {
    "name": "ipython",
    "version": 3
   },
   "file_extension": ".py",
   "mimetype": "text/x-python",
   "name": "python",
   "nbconvert_exporter": "python",
   "pygments_lexer": "ipython3",
   "version": "3.10.4"
  },
  "vscode": {
   "interpreter": {
    "hash": "6916166e9d10404f2a0950fdae2a2859f6d3df615e88d7247a95e124e905d57f"
   }
  }
 },
 "nbformat": 4,
 "nbformat_minor": 4
}
