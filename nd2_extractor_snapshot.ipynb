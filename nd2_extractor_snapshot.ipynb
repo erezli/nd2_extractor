{
 "cells": [
  {
   "cell_type": "markdown",
   "id": "7c759b10-77e4-4e53-ad55-0e1e4b755aa4",
   "metadata": {},
   "source": [
    "# nd2 Extractor\n",
    "Author: Georgeos Hardo (gh464)\n",
    "\n",
    "[extended by Camillo Moschner (cm967): 28.05.2021]\n",
    "\n",
    "Extended for extracting from a number of snapshot grids (with only one time point) by Charlie Wedd (cdw42) 27 April 2022\n",
    "Will not extract single FOV single timepoint nd2 files, but will extract grids"
   ]
  },
  {
   "cell_type": "markdown",
   "id": "95cc7c27-65d7-4e6b-aa0f-5cc27c97020f",
   "metadata": {},
   "source": [
    "Imports for interactive visualisations:"
   ]
  },
  {
   "cell_type": "code",
   "execution_count": 1,
   "id": "b9b4ff78-7405-492d-b692-04e81593db3a",
   "metadata": {},
   "outputs": [],
   "source": [
    "from matplotlib.colors import ListedColormap, LinearSegmentedColormap\n",
    "from matplotlib import cm\n",
    "import matplotlib.gridspec as gridspec\n",
    "%matplotlib inline\n",
    "\n",
    "import ipywidgets as widgets\n",
    "from ipywidgets import interact, interact_manual"
   ]
  },
  {
   "cell_type": "code",
   "execution_count": 2,
   "id": "95ae9c8b-e368-49bb-a6ff-f9112fc91841",
   "metadata": {},
   "outputs": [
    {
     "name": "stdout",
     "output_type": "stream",
     "text": [
      " __________________________________________________ \n",
      "< BakshiLab FAST ND2 Extractor - By Georgeos Hardo >\n",
      " -------------------------------------------------- \n",
      "    \\                                  ___-------___\n",
      "     \\                             _-~~             ~~-_\n",
      "      \\                         _-~                    /~-_\n",
      "             /^\\__/^\\         /~  \\                   /    \\\n",
      "           /|  O|| O|        /      \\_______________/        \\\n",
      "          | |___||__|      /       /                \\          \\\n",
      "          |          \\    /      /                    \\          \\\n",
      "          |   (_______) /______/                        \\_________ \\\n",
      "          |         / /         \\                      /            \\\n",
      "           \\         \\^\\\\         \\                  /               \\     /\n",
      "             \\         ||           \\______________/      _-_       //\\__//\n",
      "               \\       ||------_-~~-_ ------------- \\ --/~   ~\\    || __/\n",
      "                 ~-----||====/~     |==================|       |/~~~~~\n",
      "                  (_(__/  ./     /                    \\_\\      \\.\n",
      "                         (_(___/                         \\_____)_)\n"
     ]
    }
   ],
   "source": [
    "from nd2_extractor_helpers_snapshot import *\n",
    "import os\n",
    "from tkinter import filedialog\n",
    "greeting()"
   ]
  },
  {
   "cell_type": "markdown",
   "id": "fd9971ae-17aa-4e9a-9069-5862e0d703c3",
   "metadata": {},
   "source": [
    "## Loop over all your nd2 files (each one multiple FOVs but only at a single time point)"
   ]
  },
  {
   "cell_type": "code",
   "execution_count": 3,
   "id": "10515fd7-1e43-4a7a-aa52-c711ae769118",
   "metadata": {},
   "outputs": [],
   "source": [
    "# define path to folder of nd2 files\n",
    "my_path = \"/home/cdw42/cdw42_SSD/SB5_phage_agar_pad/test_folder\" # change to your folder of nd2 files\n",
    "only_files = [f for f in os.listdir(my_path) if os.path.isfile(os.path.join(my_path, f))] # create list of just the filenames in the folder\n",
    "\n",
    "# if you have single FOV snapshots you don't want to extract, define a cut off file size here. os.path.size() can help you here\n",
    "# Will very likely give you an error in current form (27.04.2022) if you try to extract single FOV single timepoint nd2 files, but we can catch these\n",
    "snapshot_size = 10784768 + 1000000 # define a file size (in bytes) slightly greater than a snapshot size, to account for small deviations in file size.\n",
    "grid_files = [f for f in only_files if os.path.getsize(os.path.join(my_path, f)) > snapshot_size] # curate list of all files which are larger than a single FOV snapshot.\n",
    "\n",
    "# create a correspondingly named directory for each file to be extracted.\n",
    "for fname in grid_files:\n",
    "    dirname = os.path.join(my_path, fname.split(\".\")[0])\n",
    "    if not os.path.isdir(dirname):\n",
    "        os.mkdir(dirname)"
   ]
  },
  {
   "cell_type": "code",
   "execution_count": 4,
   "id": "b2ff0eaf-70dc-4a68-aa33-d9a2a44e311f",
   "metadata": {},
   "outputs": [],
   "source": [
    "# loop through files and extract tif files from nd2 files\n",
    "for fname in grid_files:\n",
    "    nd2_directory = os.path.join(my_path, fname)\n",
    "    save_directory = os.path.join(my_path, fname.split(\".\")[0])\n",
    "    \n",
    "    # extract files, but only if save directory is empty (avoid repeated work)\n",
    "    if len(os.listdir(save_directory)) == 0: \n",
    "        print(fname)\n",
    "        main_loop(nd2_directory,save_directory)"
   ]
  },
  {
   "cell_type": "markdown",
   "id": "28d82a0a-edd1-4185-9aab-e68972b5f3ed",
   "metadata": {},
   "source": [
    "## If you wish you can also use the prompt to select each file"
   ]
  },
  {
   "cell_type": "code",
   "execution_count": null,
   "id": "bd1b74c0-11ee-44ae-ab5e-85091dab448e",
   "metadata": {},
   "outputs": [],
   "source": [
    "\n",
    "prompt = True\n",
    "if prompt:\n",
    "    print(\"Choose nd2 file to extract from:\")\n",
    "    nd2_directory = filedialog.askopenfilename()\n",
    "    print(\"\\nChoose folder to save extracted images to:\")\n",
    "    save_directory = filedialog.askdirectory()\n",
    "else:\n",
    "    nd2_directory = \"\"\n",
    "    save_directory = \"\""
   ]
  },
  {
   "cell_type": "code",
   "execution_count": null,
   "id": "3bfc4625-3657-472e-9e59-9bdf161932e6",
   "metadata": {},
   "outputs": [],
   "source": [
    "main_loop(nd2_directory,save_directory)"
   ]
  }
 ],
 "metadata": {
  "kernelspec": {
   "display_name": "Python 3 (ipykernel)",
   "language": "python",
   "name": "python3"
  },
  "language_info": {
   "codemirror_mode": {
    "name": "ipython",
    "version": 3
   },
   "file_extension": ".py",
   "mimetype": "text/x-python",
   "name": "python",
   "nbconvert_exporter": "python",
   "pygments_lexer": "ipython3",
   "version": "3.9.7"
  }
 },
 "nbformat": 4,
 "nbformat_minor": 5
}
